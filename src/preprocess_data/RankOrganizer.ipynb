{
 "cells": [
  {
   "cell_type": "code",
   "execution_count": 1,
   "metadata": {},
   "outputs": [],
   "source": [
    "from employeeInfo import *"
   ]
  },
  {
   "cell_type": "code",
   "execution_count": 2,
   "metadata": {},
   "outputs": [
    {
     "data": {
      "text/plain": [
       "'Vice President      '"
      ]
     },
     "execution_count": 2,
     "metadata": {},
     "output_type": "execute_result"
    }
   ],
   "source": [
    "getEmployeeTitle(\"arnold-j\")"
   ]
  },
  {
   "cell_type": "code",
   "execution_count": 4,
   "metadata": {},
   "outputs": [
    {
     "name": "stdout",
     "output_type": "stream",
     "text": [
      "arora-h :  Vice President      \n",
      "holst-k :  Director       \n",
      "delainey-d :  CEO Enron North America and Enron Enery Services\n",
      "taylor-m :  Employee       \n",
      "neal-s :  Vice President      \n",
      "motley-m :  Director       \n",
      "horton-s :  President Enron Gas Pipeline    \n",
      "derrick-j :  In House Lawyer     \n",
      "mckay-b :  Employee       \n",
      "allen-p :  Manager       \n",
      "mann-k :  Employee       \n",
      "kean-s :  Vice President Vice President & Chief of Staff\n",
      "fossum-d :  Vice President      \n",
      "lay-k :  CEO       \n",
      "meyers-a :   Employee Specialist     \n",
      "lenhart-m :  Employee       \n",
      "buy-r :  Manager Chief Risk Management Officer   \n",
      "symes-k :  Employee       \n",
      "grigsby-m :  Manager       \n",
      "zufferli-j :  Vice President      \n",
      "panus-s :  Employee       \n",
      "sanders-r :  Vice President Enron WholeSale Services   \n",
      "carson-m :  Manager       \n",
      "maggi-m :  Director       \n",
      "richey-c :  Manager       \n",
      "hodge-j :  Managing Director      \n",
      "forney-j :  Manager Real time Trading Desk   \n",
      "shankman-j :  President Enron Global Mkts    \n",
      "reitmeyer-j :  Employee       \n",
      "salisbury-h :  Employee Cash Analyst     \n",
      "quenet-j :  Trader       \n",
      "hyatt-k :  Director Pipeline Business     \n",
      "steffes-j :  Vice President Government Affairs    \n",
      "presto-k :  Vice President      \n",
      "kaminski-v :  Manager Risk Management Head    \n",
      "dorland-c :  Manager       \n",
      "haedicke-m :  Managing Director Legal Department    \n",
      "dickson-s :  Employee       \n",
      "germany-c :  Employee       \n",
      "lewis-a :  Director       \n",
      "bass-e :  Trader       \n",
      "davis-d :  Vice President Term     \n",
      "storey-g :  Director       \n",
      "corman-s :  Vice President Regulatory Affairs    \n",
      "campbell-l :  Employee Senior Specialist     \n",
      "ermis-f :  Director       \n",
      "king-j :  Manager       \n",
      "saibi-e :  Trader       \n",
      "may-l :  Director       \n",
      "zipper-a :  Vice President Enron Online    \n",
      "donoho-l :  Employee       \n",
      "lavorato-j :  CEO Enron America     \n",
      "tholt-j :  Vice President      \n",
      "keavey-p :  Employee       \n",
      "arnold-j :  Vice President      \n",
      "pereira-s :  Employee       \n",
      "lokey-t :  Manager Regulatory Affairs     \n",
      "mclaughlin-e :  Employee       \n",
      "platter-p :  Employee Sr.Specialist      \n",
      "shively-h :  Vice President      \n",
      "hyvl-d :  Employee       \n",
      "scholtes-d :  Trader       \n",
      "mccarty-d :  Vice President      \n",
      "whalley-g :  President       \n",
      "fischer-m :  Employee       \n",
      "benson-r :  Director       \n",
      "badeer-r :  Director       \n",
      "sturm-f :  Vice President      \n",
      "martin-t :  Vice President      \n",
      "brawner-s :  Director       \n",
      "causholli-m :  Employee Analyst Risk Management    \n",
      "shapiro-r :  Vice President Regulatory Affairs    \n",
      "rogers-b :  Employee Associate      \n",
      "beck-s :  Employee Chief Operating Officer    \n",
      "slinger-r :  Trader       \n",
      "giron-d :  Employee       \n",
      "baughman-d :  Trader       \n",
      "farmer-d :  Manager Logistics Manager     \n",
      "sager-e :  Employee       \n",
      "solberg-g :  Employee Analyst      \n",
      "stepenovitch-j :  Vice President Enery marketting and trading Florida \n",
      "dasovich-j :  Employee Government Relation Executive    \n",
      "lokay-m :  Employee Administrative Asisstant     \n",
      "hayslett-r :  President Also Chief Financial Officer and Treasurer       \n",
      "staab-t :  Employee       \n",
      "kitchen-l :  President Enron Online     \n",
      "hernandez-j :  Employee Senior Specialist Logistics    \n",
      "tycholiz-b :  Vice President      \n",
      "cuilla-m :  Manager       \n",
      "dean-c :  Trader       \n",
      "ruscitti-k :  Trader       \n",
      "skilling-j :  CEO       \n",
      "swerzbin-m :  Trader       \n",
      "kuykendall-t :  Trader       \n",
      "geaccone-t :  Employee       \n",
      "schwieger-j :  Trader       \n",
      "semperger-c :  Employee Senior Analyst Cash    \n",
      "keiser-k :  Employee       \n",
      "ring-r :  Employee       \n",
      "mckay-j :  Director       \n",
      "townsend-j :  Employee       \n"
     ]
    }
   ],
   "source": [
    "data_path = os.path.expanduser('~/finalProject/enron_data/maildir/')\n",
    "\n",
    "for sub_dir in os.listdir(data_path):\n",
    "    if(getEmployeeTitle(sub_dir)):\n",
    "        print(sub_dir, \": \" , getEmployeeTitle(sub_dir))"
   ]
  },
  {
   "cell_type": "code",
   "execution_count": null,
   "metadata": {},
   "outputs": [],
   "source": []
  }
 ],
 "metadata": {
  "kernelspec": {
   "display_name": "Python 3",
   "language": "python",
   "name": "python3"
  },
  "language_info": {
   "codemirror_mode": {
    "name": "ipython",
    "version": 3
   },
   "file_extension": ".py",
   "mimetype": "text/x-python",
   "name": "python",
   "nbconvert_exporter": "python",
   "pygments_lexer": "ipython3",
   "version": "3.6.4"
  }
 },
 "nbformat": 4,
 "nbformat_minor": 2
}
