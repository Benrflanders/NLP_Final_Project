{
 "cells": [
  {
   "cell_type": "code",
   "execution_count": 1,
   "metadata": {},
   "outputs": [],
   "source": [
    "from employeeInfo import *"
   ]
  },
  {
   "cell_type": "code",
   "execution_count": 2,
   "metadata": {},
   "outputs": [
    {
     "data": {
      "text/plain": [
       "'Vice President      '"
      ]
     },
     "execution_count": 2,
     "metadata": {},
     "output_type": "execute_result"
    }
   ],
   "source": [
    "getEmployeeTitle(\"arnold-j\")"
   ]
  },
  {
   "cell_type": "code",
   "execution_count": 3,
   "metadata": {},
   "outputs": [
    {
     "name": "stdout",
     "output_type": "stream",
     "text": [
      "arora-h :  Vice President        ==  2\n",
      "holst-k :  Director         ==  2\n",
      "delainey-d :  CEO         ==  1\n",
      "taylor-m :  Employee         ==  5\n",
      "neal-s :  Vice President        ==  2\n",
      "motley-m :  Director         ==  2\n",
      "horton-s :  President         ==  1\n",
      "derrick-j :  In House Lawyer       ==  1\n",
      "mckay-b :  Employee         ==  5\n",
      "allen-p :  Manager         ==  4\n",
      "mann-k :  Employee         ==  5\n",
      "kean-s :  Vice President         ==  2\n",
      "fossum-d :  Vice President        ==  2\n",
      "lay-k :  CEO         ==  1\n",
      "meyers-a :  Employee         ==  5\n",
      "lenhart-m :  Employee         ==  5\n",
      "buy-r :  Manager Chief Risk Management Officer     ==  1\n",
      "symes-k :  Employee         ==  5\n",
      "grigsby-m :  Manager         ==  4\n",
      "zufferli-j :  Vice President        ==  2\n",
      "panus-s :  Employee         ==  5\n",
      "sanders-r :  Vice President         ==  2\n",
      "carson-m :  Manager         ==  4\n",
      "maggi-m :  Director         ==  2\n",
      "richey-c :  Manager         ==  4\n",
      "hodge-j :  Managing Director        ==  2\n",
      "forney-j :  Manager         ==  4\n",
      "shankman-j :  President         ==  1\n",
      "reitmeyer-j :  Employee         ==  5\n",
      "salisbury-h :  Employee         ==  5\n",
      "quenet-j :  Trader         ==  5\n",
      "hyatt-k :  Director         ==  2\n",
      "steffes-j :  Vice President         ==  2\n",
      "presto-k :  Vice President        ==  2\n",
      "kaminski-v :  Manager Risk Management Head      ==  1\n",
      "dorland-c :  Manager         ==  4\n",
      "haedicke-m :  Managing Director         ==  2\n",
      "dickson-s :  Employee         ==  5\n",
      "germany-c :  Employee         ==  5\n",
      "lewis-a :  Director         ==  2\n",
      "bass-e :  Trader         ==  5\n",
      "davis-d :  Vice President         ==  2\n",
      "storey-g :  Director         ==  2\n",
      "corman-s :  Vice President         ==  2\n",
      "campbell-l :  Employee Senior Specialist       ==  3\n",
      "ermis-f :  Director         ==  2\n",
      "king-j :  Manager         ==  4\n",
      "saibi-e :  Trader         ==  5\n",
      "may-l :  Director         ==  2\n",
      "zipper-a :  Vice President         ==  2\n",
      "donoho-l :  Employee         ==  5\n",
      "lavorato-j :  CEO         ==  1\n",
      "tholt-j :  Vice President        ==  2\n",
      "keavey-p :  Employee         ==  5\n",
      "arnold-j :  Vice President        ==  2\n",
      "pereira-s :  Employee         ==  5\n",
      "lokey-t :  Manager         ==  4\n",
      "mclaughlin-e :  Employee         ==  5\n",
      "platter-p :  Employee Sr.Specialist        ==  3\n",
      "shively-h :  Vice President        ==  2\n",
      "hyvl-d :  Employee         ==  5\n",
      "scholtes-d :  Trader         ==  5\n",
      "mccarty-d :  Vice President        ==  2\n",
      "whalley-g :  President         ==  1\n",
      "fischer-m :  Employee         ==  5\n",
      "benson-r :  Director         ==  2\n",
      "badeer-r :  Director         ==  2\n",
      "sturm-f :  Vice President        ==  2\n",
      "martin-t :  Vice President        ==  2\n",
      "brawner-s :  Director         ==  2\n",
      "causholli-m :  Employee         ==  5\n",
      "shapiro-r :  Vice President         ==  2\n",
      "rogers-b :  Employee         ==  5\n",
      "beck-s :  Employee Chief Operating Officer      ==  1\n",
      "slinger-r :  Trader         ==  5\n",
      "giron-d :  Employee         ==  5\n",
      "baughman-d :  Trader         ==  5\n",
      "farmer-d :  Manager         ==  4\n",
      "sager-e :  Employee         ==  5\n",
      "solberg-g :  Employee         ==  5\n",
      "stepenovitch-j :  Vice President         ==  2\n",
      "dasovich-j :  Employee Executive        ==  1\n",
      "lokay-m :  Employee         ==  5\n",
      "hayslett-r :  President         ==  1\n",
      "staab-t :  Employee         ==  5\n",
      "kitchen-l :  President         ==  1\n",
      "hernandez-j :  Employee Senior Specialist Logistics      ==  3\n",
      "tycholiz-b :  Vice President         ==  2\n",
      "cuilla-m :  Manager         ==  4\n",
      "dean-c :  Trader         ==  5\n",
      "ruscitti-k :  Trader         ==  5\n",
      "skilling-j :  CEO         ==  1\n",
      "swerzbin-m :  Trader         ==  5\n",
      "kuykendall-t :  Trader         ==  5\n",
      "geaccone-t :  Employee         ==  5\n",
      "schwieger-j :  Trader         ==  5\n",
      "semperger-c :  Employee Senior Analyst Cash      ==  3\n",
      "keiser-k :  Employee         ==  5\n",
      "ring-r :  Employee         ==  5\n",
      "mckay-j :  Director         ==  2\n",
      "townsend-j :  Employee         ==  5\n"
     ]
    }
   ],
   "source": [
    "data_path = os.path.expanduser('~/finalProject/enron_data/maildir/')\n",
    "\n",
    "for sub_dir in os.listdir(data_path):\n",
    "    if(getEmployeeTitle(sub_dir)):\n",
    "        print(sub_dir, \": \" , getEmployeeTitle(sub_dir), \" == \", getEmployeeTier(sub_dir))"
   ]
  },
  {
   "cell_type": "code",
   "execution_count": null,
   "metadata": {},
   "outputs": [],
   "source": []
  }
 ],
 "metadata": {
  "kernelspec": {
   "display_name": "Python 3",
   "language": "python",
   "name": "python3"
  },
  "language_info": {
   "codemirror_mode": {
    "name": "ipython",
    "version": 3
   },
   "file_extension": ".py",
   "mimetype": "text/x-python",
   "name": "python",
   "nbconvert_exporter": "python",
   "pygments_lexer": "ipython3",
   "version": "3.6.4"
  }
 },
 "nbformat": 4,
 "nbformat_minor": 2
}
