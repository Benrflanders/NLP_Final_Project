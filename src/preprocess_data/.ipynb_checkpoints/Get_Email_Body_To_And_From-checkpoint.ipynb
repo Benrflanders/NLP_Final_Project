{
 "cells": [
  {
   "cell_type": "code",
   "execution_count": 33,
   "metadata": {},
   "outputs": [],
   "source": [
    "import os\n",
    "import re\n",
    "import random\n",
    "\n",
    "from employeeInfo import *\n",
    "\n",
    "data_path = os.path.expanduser('~/finalProject/enron_data_processed/')"
   ]
  },
  {
   "cell_type": "code",
   "execution_count": 2,
   "metadata": {},
   "outputs": [],
   "source": [
    "#for some user get some email\n",
    "def get_random_file():\n",
    "    for root, dirs, files in os.walk(data_path):\n",
    "        for name in files:\n",
    "            if name.endswith((\".\", \".txt\")):\n",
    "                print(root)\n",
    "                print(dirs)\n",
    "                \n",
    "                if(random.randint(0,10) == 1): #chance that the email will be used or go to the next one to return it\n",
    "                    return open(os.path.join(root+'/'+name))\n"
   ]
  },
  {
   "cell_type": "code",
   "execution_count": 3,
   "metadata": {},
   "outputs": [
    {
     "name": "stdout",
     "output_type": "stream",
     "text": [
      "/home/brf97486/finalProject/enron_data_processed/sturm-f\n",
      "[]\n",
      "/home/brf97486/finalProject/enron_data_processed/sturm-f\n",
      "[]\n",
      "/home/brf97486/finalProject/enron_data_processed/sturm-f\n",
      "[]\n",
      "/home/brf97486/finalProject/enron_data_processed/sturm-f\n",
      "[]\n",
      "/home/brf97486/finalProject/enron_data_processed/sturm-f\n",
      "[]\n",
      "/home/brf97486/finalProject/enron_data_processed/sturm-f\n",
      "[]\n",
      "/home/brf97486/finalProject/enron_data_processed/sturm-f\n",
      "[]\n",
      "/home/brf97486/finalProject/enron_data_processed/sturm-f\n",
      "[]\n",
      "/home/brf97486/finalProject/enron_data_processed/sturm-f\n",
      "[]\n",
      "/home/brf97486/finalProject/enron_data_processed/sturm-f\n",
      "[]\n",
      "/home/brf97486/finalProject/enron_data_processed/sturm-f\n",
      "[]\n",
      "/home/brf97486/finalProject/enron_data_processed/sturm-f\n",
      "[]\n",
      "/home/brf97486/finalProject/enron_data_processed/sturm-f\n",
      "[]\n",
      "/home/brf97486/finalProject/enron_data_processed/sturm-f\n",
      "[]\n",
      "/home/brf97486/finalProject/enron_data_processed/sturm-f\n",
      "[]\n",
      "/home/brf97486/finalProject/enron_data_processed/sturm-f\n",
      "[]\n",
      "/home/brf97486/finalProject/enron_data_processed/sturm-f\n",
      "[]\n",
      "/home/brf97486/finalProject/enron_data_processed/sturm-f\n",
      "[]\n",
      "/home/brf97486/finalProject/enron_data_processed/sturm-f\n",
      "[]\n",
      "/home/brf97486/finalProject/enron_data_processed/sturm-f\n",
      "[]\n",
      "/home/brf97486/finalProject/enron_data_processed/sturm-f\n",
      "[]\n",
      "/home/brf97486/finalProject/enron_data_processed/sturm-f\n",
      "[]\n",
      "/home/brf97486/finalProject/enron_data_processed/sturm-f\n",
      "[]\n",
      "/home/brf97486/finalProject/enron_data_processed/sturm-f\n",
      "[]\n",
      "/home/brf97486/finalProject/enron_data_processed/sturm-f\n",
      "[]\n",
      "/home/brf97486/finalProject/enron_data_processed/sturm-f\n",
      "[]\n",
      "/home/brf97486/finalProject/enron_data_processed/sturm-f\n",
      "[]\n",
      "/home/brf97486/finalProject/enron_data_processed/sturm-f\n",
      "[]\n",
      "/home/brf97486/finalProject/enron_data_processed/sturm-f\n",
      "[]\n",
      "/home/brf97486/finalProject/enron_data_processed/sturm-f\n",
      "[]\n",
      "Message-ID: <18984826.1075852308351.JavaMail.evans@thyme>\n",
      "Date: Wed, 17 Oct 2001 13:32:40 -0700 (PDT)\n",
      "From: j..sturm@enron.com\n",
      "To: gcp_houston@enron.com\n",
      "Subject: Jason Kaniss login ID and password forStack Manager\n",
      "Cc: stephanie.sever@enron.com\n",
      "Mime-Version: 1.0\n",
      "Content-Type: text/plain; charset=us-ascii\n",
      "Content-Transfer-Encoding: 7bit\n",
      "Bcc: stephanie.sever@enron.com\n",
      "X-From: Sturm, Fletcher J. </O=ENRON/OU=NA/CN=RECIPIENTS/CN=FSTURM>\n",
      "X-To: GCP_Houston </O=ENRON/OU=NA/CN=RECIPIENTS/CN=Notesaddr/cn=GCP_Houston>\n",
      "X-cc: Sever, Stephanie </O=ENRON/OU=NA/CN=RECIPIENTS/CN=Ssever>\n",
      "X-bcc: \n",
      "X-Folder: \\FSTURM (Non-Privileged)\\Sturm, Fletcher J.\\Sent Items\n",
      "X-Origin: STURM-F\n",
      "X-FileName: FSTURM (Non-Privileged).pst\n",
      "\n",
      "Please set up Jason Kaniss with a stack manager login and password effective ASAP.  He will be trading US East Power and US Natural Gas.  All transactions under his login should go into EPMI Mid West risk book.  Jason works for me on the MidWest desk and is in training to be the new short term SERC trader at the beginning of next year.  If you have any questions, please call me at  x 3-9684.\n",
      "\n",
      "Thanks,\n",
      "\n",
      "Fletcher Sturm\n",
      "\n",
      "p.s.  I'd like him to be able to get started tomorrow (Thur.) morning 6:00 am, if possible.\n",
      "[\"Message-ID: <18984826.1075852308351.JavaMail.evans@thyme>\\nDate: Wed, 17 Oct 2001 13:32:40 -0700 (PDT)\\nFrom: j..sturm@enron.com\\nTo: gcp_houston@enron.com\\nSubject: Jason Kaniss login ID and password forStack Manager\\nCc: stephanie.sever@enron.com\\nMime-Version: 1.0\\nContent-Type: text/plain; charset=us-ascii\\nContent-Transfer-Encoding: 7bit\\nBcc: stephanie.sever@enron.com\\nX-From: Sturm, Fletcher J. </O=ENRON/OU=NA/CN=RECIPIENTS/CN=FSTURM>\\nX-To: GCP_Houston </O=ENRON/OU=NA/CN=RECIPIENTS/CN=Notesaddr/cn=GCP_Houston>\\nX-cc: Sever, Stephanie </O=ENRON/OU=NA/CN=RECIPIENTS/CN=Ssever>\\nX-bcc: \\nX-Folder: \\\\FSTURM (Non-Privileged)\\\\Sturm, Fletcher J.\\\\Sent Items\\nX-Origin: STURM-F\\nX-FileName: FSTURM (Non-Privileged).pst\\n\\nPlease set up Jason Kaniss with a stack manager login and password effective ASAP.  He will be trading US East Power and US Natural Gas.  All transactions under his login should go into EPMI Mid West risk book.  Jason works for me on the MidWest desk and is in training to be the new short term SERC trader at the beginning of next year.  If you have any questions, please call me at  x 3-9684.\\n\\nThanks,\\n\\nFletcher Sturm\\n\\np.s.  I'd like him to be able to get started tomorrow (Thur.) morning 6:00 am, if possible.\"]\n"
     ]
    }
   ],
   "source": [
    "#get the original message and get any other messages separately\n",
    "email = get_random_file().read()\n",
    "print(email)\n",
    "emails = re.split('-----Original Message-----', email)\n",
    "print(emails)"
   ]
  },
  {
   "cell_type": "code",
   "execution_count": 4,
   "metadata": {},
   "outputs": [
    {
     "data": {
      "text/plain": [
       "1"
      ]
     },
     "execution_count": 4,
     "metadata": {},
     "output_type": "execute_result"
    }
   ],
   "source": [
    "len(emails)"
   ]
  },
  {
   "cell_type": "code",
   "execution_count": 5,
   "metadata": {},
   "outputs": [
    {
     "name": "stdout",
     "output_type": "stream",
     "text": [
      "1221\n"
     ]
    }
   ],
   "source": [
    "for message in emails:\n",
    "    print(len(message))"
   ]
  },
  {
   "cell_type": "code",
   "execution_count": 6,
   "metadata": {},
   "outputs": [
    {
     "name": "stdout",
     "output_type": "stream",
     "text": [
      "Message-ID: <18984826.1075852308351.JavaMail.evans@thyme>\n",
      "Date: Wed, 17 Oct 2001 13:32:40 -0700 (PDT)\n",
      "From: j..sturm@enron.com\n",
      "To: gcp_houston@enron.com\n",
      "Subject: Jason Kaniss login ID and password forStack Manager\n",
      "Cc: stephanie.sever@enron.com\n",
      "Mime-Version: 1.0\n",
      "Content-Type: text/plain; charset=us-ascii\n",
      "Content-Transfer-Encoding: 7bit\n",
      "Bcc: stephanie.sever@enron.com\n",
      "X-From: Sturm, Fletcher J. </O=ENRON/OU=NA/CN=RECIPIENTS/CN=FSTURM>\n",
      "X-To: GCP_Houston </O=ENRON/OU=NA/CN=RECIPIENTS/CN=Notesaddr/cn=GCP_Houston>\n",
      "X-cc: Sever, Stephanie </O=ENRON/OU=NA/CN=RECIPIENTS/CN=Ssever>\n",
      "X-bcc: \n",
      "X-Folder: \\FSTURM (Non-Privileged)\\Sturm, Fletcher J.\\Sent Items\n",
      "X-Origin: STURM-F\n",
      "X-FileName: FSTURM (Non-Privileged).pst\n",
      "\n",
      "Please set up Jason Kaniss with a stack manager login and password effective ASAP.  He will be trading US East Power and US Natural Gas.  All transactions under his login should go into EPMI Mid West risk book.  Jason works for me on the MidWest desk and is in training to be the new short term SERC trader at the beginning of next year.  If you have any questions, please call me at  x 3-9684.\n",
      "\n",
      "Thanks,\n",
      "\n",
      "Fletcher Sturm\n",
      "\n",
      "p.s.  I'd like him to be able to get started tomorrow (Thur.) morning 6:00 am, if possible.\n"
     ]
    }
   ],
   "source": [
    "print(emails[0])"
   ]
  },
  {
   "cell_type": "code",
   "execution_count": 7,
   "metadata": {},
   "outputs": [
    {
     "name": "stdout",
     "output_type": "stream",
     "text": [
      "Cc: stephanie.sever@enron.comBcc: stephanie.sever@enron.comPlease set up Jason Kaniss with a stack manager login and password effective ASAP.  He will be trading US East Power and US Natural Gas.  All transactions under his login should go into EPMI Mid West risk book.  Jason works for me on the MidWest desk and is in training to be the new short term SERC trader at the beginning of next year.  If you have any questions, please call me at  x 3-9684.Thanks,Fletcher Sturmp.s.  I'd like him to be able to get started tomorrow (Thur.) morning 6:00 am, if possible.\n"
     ]
    }
   ],
   "source": [
    "metadata_tags = [\n",
    "    'Date:',\n",
    "    'From:',\n",
    "    'To:',\n",
    "    'Mime-Version:',\n",
    "    'Content-Type:',\n",
    "    'Content-Transfer-Encoding:',\n",
    "    'X-From:',\n",
    "    'X-To:',\n",
    "    'X-cc:',\n",
    "    'X-bcc:',\n",
    "    'X-Folder:',\n",
    "    'X-Origin:',\n",
    "    'X-FileName:',\n",
    "    'Message-ID:',\n",
    "    'Subject'\n",
    "]\n",
    "\n",
    "\n",
    "\n",
    "#get eamil body without metadata\n",
    "body = re.findall(r\"(.+)\", emails[0])\n",
    "body_temp = \"\"\n",
    "for item in body:\n",
    "    if not item.startswith(tuple(metadata_tags)):\n",
    "        body_temp = body_temp + item\n",
    "\n",
    "body = body_temp\n",
    "print(body)\n"
   ]
  },
  {
   "cell_type": "code",
   "execution_count": 21,
   "metadata": {},
   "outputs": [
    {
     "name": "stdout",
     "output_type": "stream",
     "text": [
      "To: gcp_houston@enron.com\n",
      "gcp_houston\n"
     ]
    }
   ],
   "source": [
    "#get to and from lines\n",
    "#To:.(.+)\n",
    "to = re.search(r\"To:.(.+)\", emails[0])\n",
    "print(to.group())\n",
    "to = re.split(\" \", to.group())\n",
    "if(\"@\" in to[1]):\n",
    "    to = re.split(\"[@]\", str(to[1]))\n",
    "    print(to[0])\n",
    "to = to[0]"
   ]
  },
  {
   "cell_type": "code",
   "execution_count": 22,
   "metadata": {},
   "outputs": [
    {
     "name": "stdout",
     "output_type": "stream",
     "text": [
      "From: j..sturm@enron.com\n",
      "j..sturm\n"
     ]
    }
   ],
   "source": [
    "#from\n",
    "frm = re.search(r\"From:.(.+)\", emails[0])\n",
    "print(frm.group())\n",
    "frm = re.split(\" \", frm.group())\n",
    "if(\"@\" in frm[1]):\n",
    "    frm = re.split(\"[@]\", str(frm[1]))\n",
    "    print(frm[0])\n",
    "    \n",
    "frm = frm[0]"
   ]
  },
  {
   "cell_type": "code",
   "execution_count": 26,
   "metadata": {},
   "outputs": [
    {
     "name": "stdout",
     "output_type": "stream",
     "text": [
      "gcp_houston\n",
      "j..sturm\n"
     ]
    }
   ],
   "source": [
    "print(to)\n",
    "print(frm)"
   ]
  },
  {
   "cell_type": "code",
   "execution_count": 31,
   "metadata": {},
   "outputs": [],
   "source": [
    "id_to = csvEmployeeNameToDirStyleEmployeeName(to)\n",
    "id_frm = csvEmployeeNameToDirStyleEmployeeName(frm)\n",
    "\n",
    "#weird edge case when . won't work\n",
    "if(len(id_to) == 1):\n",
    "    id_to = to.split('_')\n",
    "if(len(id_frm) == 1):\n",
    "    id_frm = frm.split('_')\n",
    "    \n",
    "#now combine \n"
   ]
  },
  {
   "cell_type": "code",
   "execution_count": 32,
   "metadata": {},
   "outputs": [
    {
     "name": "stdout",
     "output_type": "stream",
     "text": [
      "['gcp', 'houston']\n",
      "['j', '', 'sturm']\n"
     ]
    }
   ],
   "source": [
    "print(id_to)\n",
    "print(id_frm)"
   ]
  },
  {
   "cell_type": "code",
   "execution_count": null,
   "metadata": {},
   "outputs": [],
   "source": []
  }
 ],
 "metadata": {
  "kernelspec": {
   "display_name": "Python 3",
   "language": "python",
   "name": "python3"
  },
  "language_info": {
   "codemirror_mode": {
    "name": "ipython",
    "version": 3
   },
   "file_extension": ".py",
   "mimetype": "text/x-python",
   "name": "python",
   "nbconvert_exporter": "python",
   "pygments_lexer": "ipython3",
   "version": "3.6.4"
  }
 },
 "nbformat": 4,
 "nbformat_minor": 2
}
