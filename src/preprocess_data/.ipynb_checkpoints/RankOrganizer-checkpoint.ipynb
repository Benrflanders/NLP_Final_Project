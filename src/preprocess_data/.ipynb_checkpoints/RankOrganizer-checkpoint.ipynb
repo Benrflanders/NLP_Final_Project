{
 "cells": [
  {
   "cell_type": "code",
   "execution_count": 1,
   "metadata": {},
   "outputs": [],
   "source": [
    "from employeeInfo import *"
   ]
  },
  {
   "cell_type": "code",
   "execution_count": 2,
   "metadata": {},
   "outputs": [
    {
     "data": {
      "text/plain": [
       "'Vice President      '"
      ]
     },
     "execution_count": 2,
     "metadata": {},
     "output_type": "execute_result"
    }
   ],
   "source": [
    "getEmployeeTitle(\"arnold-j\")"
   ]
  },
  {
   "cell_type": "code",
   "execution_count": 3,
   "metadata": {},
   "outputs": [
    {
     "name": "stdout",
     "output_type": "stream",
     "text": [
      "Vice President      \n",
      "Director       \n",
      "CEO Enron North America and Enron Enery Services\n",
      "Employee       \n",
      "Vice President      \n",
      "Director       \n",
      "President Enron Gas Pipeline    \n",
      "In House Lawyer     \n",
      "Employee       \n",
      "Manager       \n",
      "Employee       \n",
      "Vice President Vice President & Chief of Staff\n",
      "Vice President      \n",
      "CEO       \n",
      " Employee Specialist     \n",
      "Employee       \n",
      "Manager Chief Risk Management Officer   \n",
      "Employee       \n",
      "Manager       \n",
      "Vice President      \n",
      "Employee       \n",
      "Vice President Enron WholeSale Services   \n",
      "Manager       \n",
      "Director       \n",
      "Manager       \n",
      "Managing Director      \n",
      "Manager Real time Trading Desk   \n",
      "President Enron Global Mkts    \n",
      "Employee       \n",
      "Employee Cash Analyst     \n",
      "Trader       \n",
      "Director Pipeline Business     \n",
      "Vice President Government Affairs    \n",
      "Vice President      \n",
      "Manager Risk Management Head    \n",
      "Manager       \n",
      "Managing Director Legal Department    \n",
      "Employee       \n",
      "Employee       \n",
      "Director       \n",
      "Trader       \n",
      "Vice President Term     \n",
      "Director       \n",
      "Vice President Regulatory Affairs    \n",
      "Employee Senior Specialist     \n",
      "Director       \n",
      "Manager       \n",
      "Trader       \n",
      "Director       \n",
      "Vice President Enron Online    \n",
      "Employee       \n",
      "CEO Enron America     \n",
      "Vice President      \n",
      "Employee       \n",
      "Vice President      \n",
      "Employee       \n",
      "Manager Regulatory Affairs     \n",
      "Employee       \n",
      "Employee Sr.Specialist      \n",
      "Vice President      \n",
      "Employee       \n",
      "Trader       \n",
      "Vice President      \n",
      "President       \n",
      "Employee       \n",
      "Director       \n",
      "Director       \n",
      "Vice President      \n",
      "Vice President      \n",
      "Director       \n",
      "Employee Analyst Risk Management    \n",
      "Vice President Regulatory Affairs    \n",
      "Employee Associate      \n",
      "Employee Chief Operating Officer    \n",
      "Trader       \n",
      "Employee       \n",
      "Trader       \n",
      "Manager Logistics Manager     \n",
      "Employee       \n",
      "Employee Analyst      \n",
      "Vice President Enery marketting and trading Florida \n",
      "Employee Government Relation Executive    \n",
      "Employee Administrative Asisstant     \n",
      "President Also Chief Financial Officer and Treasurer       \n",
      "Employee       \n",
      "President Enron Online     \n",
      "Employee Senior Specialist Logistics    \n",
      "Vice President      \n",
      "Manager       \n",
      "Trader       \n",
      "Trader       \n",
      "CEO       \n",
      "Trader       \n",
      "Trader       \n",
      "Employee       \n",
      "Trader       \n",
      "Employee Senior Analyst Cash    \n",
      "Employee       \n",
      "Employee       \n",
      "Director       \n",
      "Employee       \n"
     ]
    }
   ],
   "source": [
    "data_path = os.path.expanduser('~/finalProject/enron_data/maildir/')\n",
    "\n",
    "for sub_dir in os.listdir(data_path):\n",
    "    if(getEmployeeTitle(sub_dir)):\n",
    "        print(sub_dir, \": \" , getEmployeeTitle(sub_dir))"
   ]
  },
  {
   "cell_type": "code",
   "execution_count": null,
   "metadata": {},
   "outputs": [],
   "source": []
  }
 ],
 "metadata": {
  "kernelspec": {
   "display_name": "Python 3",
   "language": "python",
   "name": "python3"
  },
  "language_info": {
   "codemirror_mode": {
    "name": "ipython",
    "version": 3
   },
   "file_extension": ".py",
   "mimetype": "text/x-python",
   "name": "python",
   "nbconvert_exporter": "python",
   "pygments_lexer": "ipython3",
   "version": "3.6.4"
  }
 },
 "nbformat": 4,
 "nbformat_minor": 2
}
