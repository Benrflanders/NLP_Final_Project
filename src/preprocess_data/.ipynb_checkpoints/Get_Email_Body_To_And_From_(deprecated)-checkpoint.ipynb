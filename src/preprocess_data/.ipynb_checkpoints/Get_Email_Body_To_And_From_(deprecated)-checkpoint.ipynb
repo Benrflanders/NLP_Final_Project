{
 "cells": [
  {
   "cell_type": "code",
   "execution_count": 1,
   "metadata": {},
   "outputs": [],
   "source": [
    "import os\n",
    "import re\n",
    "import random\n",
    "\n",
    "from employeeInfo import *\n",
    "from emailInfo import *\n",
    "\n",
    "data_path = os.path.expanduser('~/finalProject/enron_data/maildir/allen-p/')\n",
    "multi_recipient_email = os.path.expanduser('~/finalProject/enron_data/maildir/allen-p/inbox/35.')"
   ]
  },
  {
   "cell_type": "code",
   "execution_count": 2,
   "metadata": {},
   "outputs": [],
   "source": [
    "#for some user get some email\n",
    "def get_random_file():\n",
    "    for root, dirs, files in os.walk(data_path):\n",
    "        for name in files:\n",
    "            if name.endswith((\".\", \".txt\")):\n",
    "                \n",
    "                if(random.randint(0,10) == 1): #chance that the email will be used or go to the next one to return it\n",
    "                    return open(os.path.join(root+'/'+name))\n"
   ]
  },
  {
   "cell_type": "code",
   "execution_count": 3,
   "metadata": {},
   "outputs": [
    {
     "name": "stdout",
     "output_type": "stream",
     "text": [
      "Message-ID: <11341209.1075858645204.JavaMail.evans@thyme>\n",
      "Date: Mon, 29 Oct 2001 15:03:47 -0800 (PST)\n",
      "From: james.bruce@enron.com\n",
      "To: k..allen@enron.com, tom.alonso@enron.com, kysa.alport@enron.com, \n",
      "\trobert.badeer@enron.com, tim.belden@enron.com, \n",
      "\tkortney.brown@enron.com, james.bruce@enron.com, \n",
      "\tjesse.bryson@enron.com, jim.buerkle@enron.com, \n",
      "\tangela.cadena@enron.com, f..calger@enron.com, fran.chang@enron.com, \n",
      "\tandy.chen@enron.com, paul.choi@enron.com, ed.clark@enron.com, \n",
      "\talan.comnes@enron.com, wendy.conwell@enron.com, \n",
      "\tminal.dalia@enron.com, debra.davidson@enron.com, \n",
      "\tw..donovan@enron.com, m..driscoll@enron.com, \n",
      "\theather.dunton@enron.com, laird.dyer@enron.com, \n",
      "\tfredrik.eriksson@enron.com, michael.etringer@enron.com, \n",
      "\tmark.fillinger@enron.com, h..foster@enron.com, david.frost@enron.com, \n",
      "\tdave.fuller@enron.com, jim.gilbert@enron.com, a..gomez@enron.com, \n",
      "\tstan.gray@enron.com, mike.grigsby@enron.com, \n",
      "\tdavid.guillaume@enron.com, mark.guzman@enron.com, \n",
      "\tdon.hammond@enron.com, keith.holst@enron.com, paul.kaufman@enron.com, \n",
      "\tchris.lackey@enron.com, samantha.law@enron.com, \n",
      "\telliot.mainzer@enron.com, john.malowney@enron.com, \n",
      "\twayne.mays@enron.com, michael.mcdonald@enron.com, \n",
      "\tjonathan.mckay@enron.com, stephanie.miller@enron.com, \n",
      "\tmatt.motley@enron.com, mark.mullen@enron.com, chris.mumm@enron.com, \n",
      "\tkourtney.nelson@enron.com, tracy.ngo@enron.com, jeffrey.oh@enron.com, \n",
      "\tjonalan.page@enron.com, david.parquet@enron.com, \n",
      "\ttodd.perry@enron.com, phil.polsky@enron.com, darin.presto@enron.com, \n",
      "\tpaul.radous@enron.com, susan.rance@enron.com, \n",
      "\tlester.rawson@enron.com, jeff.richter@enron.com, \n",
      "\tstewart.rosman@enron.com, edward.sacks@enron.com, \n",
      "\tholden.salisbury@enron.com, julie.sarnowski@enron.com, \n",
      "\tgordon.savage@enron.com, diana.scholtes@enron.com, \n",
      "\tcara.semperger@enron.com, jeff.shields@enron.com, \n",
      "\tg..slaughter@enron.com, sarabeth.smith@enron.com, \n",
      "\tlarry.soderquist@enron.com, glenn.surowiec@enron.com, \n",
      "\tsteve.swain@enron.com, mike.swerzbin@enron.com, kate.symes@enron.com, \n",
      "\tjake.thomas@enron.com, stephen.thome@enron.com, \n",
      "\tstephen.thome@enron.com, virginia.thompson@enron.com, \n",
      "\tjohn.van@enron.com, houston <.ward@enron.com>, laura.wente@enron.com, \n",
      "\tbill.williams@enron.com, bill.williams@enron.com, \n",
      "\tcredit <.williams@enron.com>, john.zufferli@enron.com\n",
      "Subject: Edition 2 New Gen Weekly\n",
      "Mime-Version: 1.0\n",
      "Content-Type: text/plain; charset=us-ascii\n",
      "Content-Transfer-Encoding: 7bit\n",
      "X-From: Bruce, James </O=ENRON/OU=NA/CN=RECIPIENTS/CN=JBRUCE2>\n",
      "X-To: Allen, Phillip K. </O=ENRON/OU=NA/CN=RECIPIENTS/CN=Pallen>, Alonso, Tom </O=ENRON/OU=NA/CN=RECIPIENTS/CN=Talonso>, Alport, Kysa </O=ENRON/OU=NA/CN=RECIPIENTS/CN=Kalport>, Badeer, Robert </O=ENRON/OU=NA/CN=RECIPIENTS/CN=Rbadeer>, Belden, Tim </O=ENRON/OU=NA/CN=RECIPIENTS/CN=Tbelden>, Brown, Kortney </O=ENRON/OU=NA/CN=RECIPIENTS/CN=Kbrown>, Bruce, James </O=ENRON/OU=NA/CN=RECIPIENTS/CN=Jbruce2>, Bryson, Jesse </O=ENRON/OU=NA/CN=RECIPIENTS/CN=Jbryson>, Buerkle, Jim </O=ENRON/OU=NA/CN=RECIPIENTS/CN=JBUERKL>, Cadena, Angela </O=ENRON/OU=NA/CN=RECIPIENTS/CN=Acadena>, Calger, Christopher F. </O=ENRON/OU=NA/CN=RECIPIENTS/CN=Ccalger>, Chang, Fran </O=ENRON/OU=NA/CN=RECIPIENTS/CN=Fchang>, Chen, Andy </O=ENRON/OU=NA/CN=RECIPIENTS/CN=Achen>, Choi, Paul </O=ENRON/OU=NA/CN=RECIPIENTS/CN=Pchoi>, Clark, Ed </O=ENRON/OU=NA/CN=RECIPIENTS/CN=Eclark3>, Comnes, Alan </O=ENRON/OU=NA/CN=RECIPIENTS/CN=Acomnes>, Conwell, Wendy </O=ENRON/OU=NA/CN=RECIPIENTS/CN=Wconwell>, Dalia, Minal </O=ENRON/OU=NA/CN=RECIPIENTS/CN=Mdalia>, Davidson, Debra </O=ENRON/OU=NA/CN=RECIPIENTS/CN=DDAVIDS3>, Donovan, Terry W. </O=ENRON/OU=NA/CN=RECIPIENTS/CN=Tdonova>, Driscoll, Michael M. </O=ENRON/OU=NA/CN=RECIPIENTS/CN=Mdrisc3>, Dunton, Heather </O=ENRON/OU=NA/CN=RECIPIENTS/CN=Hdunton>, Dyer, Laird </O=ENRON/OU=NA/CN=RECIPIENTS/CN=Ldyer>, Eriksson, Fredrik </O=ENRON/OU=NA/CN=RECIPIENTS/CN=Feriksso>, Etringer, Michael </O=ENRON/OU=NA/CN=RECIPIENTS/CN=Metring>, Fillinger, Mark </O=ENRON/OU=NA/CN=RECIPIENTS/CN=Mfilling>, Foster, Chris H. </O=ENRON/OU=NA/CN=RECIPIENTS/CN=Cfoster>, Frost, David </O=ENRON/OU=NA/CN=RECIPIENTS/CN=Dfrost>, Fuller, Dave </O=ENRON/OU=NA/CN=RECIPIENTS/CN=Dfuller>, Gilbert, Jim </O=ENRON/OU=NA/CN=RECIPIENTS/CN=Jgilbe2>, Gomez, Julie A. </O=ENRON/OU=NA/CN=RECIPIENTS/CN=Jgomez>, Gray, Stan </O=ENRON/OU=NA/CN=RECIPIENTS/CN=Sgray>, Grigsby, Mike </O=ENRON/OU=NA/CN=RECIPIENTS/CN=Mgrigsb>, Guillaume, David </O=ENRON/OU=NA/CN=RECIPIENTS/CN=Dguillau>, Guzman, Mark </O=ENRON/OU=NA/CN=RECIPIENTS/CN=Mguzman3>, Hammond, Don </O=ENRON/OU=NA/CN=RECIPIENTS/CN=Dhammon>, Holst, Keith </O=ENRON/OU=NA/CN=RECIPIENTS/CN=Kholst>, Kaufman, Paul </O=ENRON/OU=NA/CN=RECIPIENTS/CN=Pkaufma>, Lackey, Chris </O=ENRON/OU=NA/CN=RECIPIENTS/CN=Clackey2>, Law, Samantha </O=ENRON/OU=NA/CN=RECIPIENTS/CN=Slaw>, Mainzer, Elliot </O=ENRON/OU=NA/CN=RECIPIENTS/CN=Emainze>, Malowney, John </O=ENRON/OU=NA/CN=RECIPIENTS/CN=Jmalown>, Mays, Wayne </O=ENRON/OU=NA/CN=RECIPIENTS/CN=Wmays>, Mcdonald, Michael </O=ENRON/OU=NA/CN=RECIPIENTS/CN=Mmcdona>, Mckay, Jonathan </O=ENRON/OU=NA/CN=RECIPIENTS/CN=JMCKAY1>, Miller, Stephanie </O=ENRON/OU=NA/CN=RECIPIENTS/CN=Smiller2>, Motley, Matt </O=ENRON/OU=NA/CN=RECIPIENTS/CN=MMOTLEY>, Mullen, Mark </O=ENRON/OU=NA/CN=RECIPIENTS/CN=Mmullen>, Mumm, Chris </O=ENRON/OU=NA/CN=RECIPIENTS/CN=Cmumm>, Nelson, Kourtney </O=ENRON/OU=NA/CN=RECIPIENTS/CN=Knelson>, Ngo, Tracy </O=ENRON/OU=NA/CN=RECIPIENTS/CN=Tngo>, Oh, Jeffrey </O=ENRON/OU=NA/CN=RECIPIENTS/CN=Joh>, Page, Jonalan </O=ENRON/OU=NA/CN=RECIPIENTS/CN=Jpage>, Parquet, David </O=ENRON/OU=NA/CN=RECIPIENTS/CN=Dparque>, Perry, Todd </O=ENRON/OU=NA/CN=RECIPIENTS/CN=Tperry2>, Polsky, Phil </O=ENRON/OU=NA/CN=RECIPIENTS/CN=Ppolsky>, Presto, Darin </O=ENRON/OU=NA/CN=RECIPIENTS/CN=Dpresto2>, Radous, Paul </O=ENRON/OU=NA/CN=RECIPIENTS/CN=Pradous>, Rance, Susan </O=ENRON/OU=NA/CN=RECIPIENTS/CN=Srance>, Rawson, Lester </O=ENRON/OU=NA/CN=RECIPIENTS/CN=Lrawson>, Richter, Jeff </O=ENRON/OU=NA/CN=RECIPIENTS/CN=Jrichte>, Rosman, Stewart </O=ENRON/OU=NA/CN=RECIPIENTS/CN=Srosman>, Sacks, Edward </O=ENRON/OU=NA/CN=RECIPIENTS/CN=Esacks>, Salisbury, Holden </O=ENRON/OU=NA/CN=RECIPIENTS/CN=Hsalisbu>, Sarnowski, Julie </O=ENRON/OU=NA/CN=RECIPIENTS/CN=Jsarnow>, Savage, Gordon </O=ENRON/OU=NA/CN=RECIPIENTS/CN=Gsavage>, Scholtes, Diana </O=ENRON/OU=NA/CN=RECIPIENTS/CN=Dscholt>, Semperger, Cara </O=ENRON/OU=NA/CN=RECIPIENTS/CN=Csemper>, Shields, Jeff </O=ENRON/OU=NA/CN=RECIPIENTS/CN=Jshields>, Slaughter, Jeff G. </O=ENRON/OU=NA/CN=RECIPIENTS/CN=Jslaugh>, Smith, Sarabeth </O=ENRON/OU=NA/CN=RECIPIENTS/CN=Ssmith3>, Soderquist, Larry </O=ENRON/OU=NA/CN=RECIPIENTS/CN=Lsoderq>, Surowiec, Glenn </O=ENRON/OU=NA/CN=RECIPIENTS/CN=Gsurowie>, Swain, Steve </O=ENRON/OU=NA/CN=RECIPIENTS/CN=Sswain>, Swerzbin, Mike </O=ENRON/OU=NA/CN=RECIPIENTS/CN=Mswerzb>, Symes, Kate </O=ENRON/OU=NA/CN=RECIPIENTS/CN=Ksymes>, Thomas, Jake </O=ENRON/OU=NA/CN=RECIPIENTS/CN=Jthomas5>, Thome, Stephen </O=ENRON/OU=NA/CN=RECIPIENTS/CN=Sthome>, Thome, Stephen </O=ENRON/OU=NA/CN=RECIPIENTS/CN=STHOME>, Thompson, Virginia </O=ENRON/OU=NA/CN=RECIPIENTS/CN=Vthompso>, Van Gelder, John </O=ENRON/OU=NA/CN=RECIPIENTS/CN=Jvangeld>, Ward, Kim S (Houston) </O=ENRON/OU=NA/CN=RECIPIENTS/CN=Kward>, Wente, Laura </O=ENRON/OU=NA/CN=RECIPIENTS/CN=Lwente>, Williams III, Bill </O=ENRON/OU=NA/CN=RECIPIENTS/CN=Bwillia5>, Williams, Bill </O=ENRON/OU=NA/CN=RECIPIENTS/CN=Bwillia>, Williams, Jason R (Credit) </O=ENRON/OU=NA/CN=RECIPIENTS/CN=Jwilli10>, Zufferli, John </O=ENRON/OU=NA/CN=RECIPIENTS/CN=JZUFFER>\n",
      "X-cc: \n",
      "X-bcc: \n",
      "X-Folder: \\PALLEN (Non-Privileged)\\Allen, Phillip K.\\Inbox\n",
      "X-Origin: Allen-P\n",
      "X-FileName: PALLEN (Non-Privileged).pst\n",
      "\n",
      "The second edition of \"New Gen Weekly\" is available for download.  The report can be found at:\n",
      "\n",
      "O:_Dropbox/West New Gen/Weekly/2_10_26_01\n",
      "\n",
      "If you have any comments about this report (including ease of access) please direct them to me as soon as possible.\n",
      "\n",
      "\n",
      "James Bruce\t\n",
      "Enron North America\t\t(503) 464-8122\n",
      "West Power Desk\t\t(503) 860-8612 (c)\n",
      "121 SW Salmon, 3WTC0306\t(503) 464-3740 (fax)\n",
      "Portland, OR 97204\t\tJames.Bruce@Enron.com\n",
      "\n",
      "['Message-ID: <11341209.1075858645204.JavaMail.evans@thyme>\\nDate: Mon, 29 Oct 2001 15:03:47 -0800 (PST)\\nFrom: james.bruce@enron.com\\nTo: k..allen@enron.com, tom.alonso@enron.com, kysa.alport@enron.com, \\n\\trobert.badeer@enron.com, tim.belden@enron.com, \\n\\tkortney.brown@enron.com, james.bruce@enron.com, \\n\\tjesse.bryson@enron.com, jim.buerkle@enron.com, \\n\\tangela.cadena@enron.com, f..calger@enron.com, fran.chang@enron.com, \\n\\tandy.chen@enron.com, paul.choi@enron.com, ed.clark@enron.com, \\n\\talan.comnes@enron.com, wendy.conwell@enron.com, \\n\\tminal.dalia@enron.com, debra.davidson@enron.com, \\n\\tw..donovan@enron.com, m..driscoll@enron.com, \\n\\theather.dunton@enron.com, laird.dyer@enron.com, \\n\\tfredrik.eriksson@enron.com, michael.etringer@enron.com, \\n\\tmark.fillinger@enron.com, h..foster@enron.com, david.frost@enron.com, \\n\\tdave.fuller@enron.com, jim.gilbert@enron.com, a..gomez@enron.com, \\n\\tstan.gray@enron.com, mike.grigsby@enron.com, \\n\\tdavid.guillaume@enron.com, mark.guzman@enron.com, \\n\\tdon.hammond@enron.com, keith.holst@enron.com, paul.kaufman@enron.com, \\n\\tchris.lackey@enron.com, samantha.law@enron.com, \\n\\telliot.mainzer@enron.com, john.malowney@enron.com, \\n\\twayne.mays@enron.com, michael.mcdonald@enron.com, \\n\\tjonathan.mckay@enron.com, stephanie.miller@enron.com, \\n\\tmatt.motley@enron.com, mark.mullen@enron.com, chris.mumm@enron.com, \\n\\tkourtney.nelson@enron.com, tracy.ngo@enron.com, jeffrey.oh@enron.com, \\n\\tjonalan.page@enron.com, david.parquet@enron.com, \\n\\ttodd.perry@enron.com, phil.polsky@enron.com, darin.presto@enron.com, \\n\\tpaul.radous@enron.com, susan.rance@enron.com, \\n\\tlester.rawson@enron.com, jeff.richter@enron.com, \\n\\tstewart.rosman@enron.com, edward.sacks@enron.com, \\n\\tholden.salisbury@enron.com, julie.sarnowski@enron.com, \\n\\tgordon.savage@enron.com, diana.scholtes@enron.com, \\n\\tcara.semperger@enron.com, jeff.shields@enron.com, \\n\\tg..slaughter@enron.com, sarabeth.smith@enron.com, \\n\\tlarry.soderquist@enron.com, glenn.surowiec@enron.com, \\n\\tsteve.swain@enron.com, mike.swerzbin@enron.com, kate.symes@enron.com, \\n\\tjake.thomas@enron.com, stephen.thome@enron.com, \\n\\tstephen.thome@enron.com, virginia.thompson@enron.com, \\n\\tjohn.van@enron.com, houston <.ward@enron.com>, laura.wente@enron.com, \\n\\tbill.williams@enron.com, bill.williams@enron.com, \\n\\tcredit <.williams@enron.com>, john.zufferli@enron.com\\nSubject: Edition 2 New Gen Weekly\\nMime-Version: 1.0\\nContent-Type: text/plain; charset=us-ascii\\nContent-Transfer-Encoding: 7bit\\nX-From: Bruce, James </O=ENRON/OU=NA/CN=RECIPIENTS/CN=JBRUCE2>\\nX-To: Allen, Phillip K. </O=ENRON/OU=NA/CN=RECIPIENTS/CN=Pallen>, Alonso, Tom </O=ENRON/OU=NA/CN=RECIPIENTS/CN=Talonso>, Alport, Kysa </O=ENRON/OU=NA/CN=RECIPIENTS/CN=Kalport>, Badeer, Robert </O=ENRON/OU=NA/CN=RECIPIENTS/CN=Rbadeer>, Belden, Tim </O=ENRON/OU=NA/CN=RECIPIENTS/CN=Tbelden>, Brown, Kortney </O=ENRON/OU=NA/CN=RECIPIENTS/CN=Kbrown>, Bruce, James </O=ENRON/OU=NA/CN=RECIPIENTS/CN=Jbruce2>, Bryson, Jesse </O=ENRON/OU=NA/CN=RECIPIENTS/CN=Jbryson>, Buerkle, Jim </O=ENRON/OU=NA/CN=RECIPIENTS/CN=JBUERKL>, Cadena, Angela </O=ENRON/OU=NA/CN=RECIPIENTS/CN=Acadena>, Calger, Christopher F. </O=ENRON/OU=NA/CN=RECIPIENTS/CN=Ccalger>, Chang, Fran </O=ENRON/OU=NA/CN=RECIPIENTS/CN=Fchang>, Chen, Andy </O=ENRON/OU=NA/CN=RECIPIENTS/CN=Achen>, Choi, Paul </O=ENRON/OU=NA/CN=RECIPIENTS/CN=Pchoi>, Clark, Ed </O=ENRON/OU=NA/CN=RECIPIENTS/CN=Eclark3>, Comnes, Alan </O=ENRON/OU=NA/CN=RECIPIENTS/CN=Acomnes>, Conwell, Wendy </O=ENRON/OU=NA/CN=RECIPIENTS/CN=Wconwell>, Dalia, Minal </O=ENRON/OU=NA/CN=RECIPIENTS/CN=Mdalia>, Davidson, Debra </O=ENRON/OU=NA/CN=RECIPIENTS/CN=DDAVIDS3>, Donovan, Terry W. </O=ENRON/OU=NA/CN=RECIPIENTS/CN=Tdonova>, Driscoll, Michael M. </O=ENRON/OU=NA/CN=RECIPIENTS/CN=Mdrisc3>, Dunton, Heather </O=ENRON/OU=NA/CN=RECIPIENTS/CN=Hdunton>, Dyer, Laird </O=ENRON/OU=NA/CN=RECIPIENTS/CN=Ldyer>, Eriksson, Fredrik </O=ENRON/OU=NA/CN=RECIPIENTS/CN=Feriksso>, Etringer, Michael </O=ENRON/OU=NA/CN=RECIPIENTS/CN=Metring>, Fillinger, Mark </O=ENRON/OU=NA/CN=RECIPIENTS/CN=Mfilling>, Foster, Chris H. </O=ENRON/OU=NA/CN=RECIPIENTS/CN=Cfoster>, Frost, David </O=ENRON/OU=NA/CN=RECIPIENTS/CN=Dfrost>, Fuller, Dave </O=ENRON/OU=NA/CN=RECIPIENTS/CN=Dfuller>, Gilbert, Jim </O=ENRON/OU=NA/CN=RECIPIENTS/CN=Jgilbe2>, Gomez, Julie A. </O=ENRON/OU=NA/CN=RECIPIENTS/CN=Jgomez>, Gray, Stan </O=ENRON/OU=NA/CN=RECIPIENTS/CN=Sgray>, Grigsby, Mike </O=ENRON/OU=NA/CN=RECIPIENTS/CN=Mgrigsb>, Guillaume, David </O=ENRON/OU=NA/CN=RECIPIENTS/CN=Dguillau>, Guzman, Mark </O=ENRON/OU=NA/CN=RECIPIENTS/CN=Mguzman3>, Hammond, Don </O=ENRON/OU=NA/CN=RECIPIENTS/CN=Dhammon>, Holst, Keith </O=ENRON/OU=NA/CN=RECIPIENTS/CN=Kholst>, Kaufman, Paul </O=ENRON/OU=NA/CN=RECIPIENTS/CN=Pkaufma>, Lackey, Chris </O=ENRON/OU=NA/CN=RECIPIENTS/CN=Clackey2>, Law, Samantha </O=ENRON/OU=NA/CN=RECIPIENTS/CN=Slaw>, Mainzer, Elliot </O=ENRON/OU=NA/CN=RECIPIENTS/CN=Emainze>, Malowney, John </O=ENRON/OU=NA/CN=RECIPIENTS/CN=Jmalown>, Mays, Wayne </O=ENRON/OU=NA/CN=RECIPIENTS/CN=Wmays>, Mcdonald, Michael </O=ENRON/OU=NA/CN=RECIPIENTS/CN=Mmcdona>, Mckay, Jonathan </O=ENRON/OU=NA/CN=RECIPIENTS/CN=JMCKAY1>, Miller, Stephanie </O=ENRON/OU=NA/CN=RECIPIENTS/CN=Smiller2>, Motley, Matt </O=ENRON/OU=NA/CN=RECIPIENTS/CN=MMOTLEY>, Mullen, Mark </O=ENRON/OU=NA/CN=RECIPIENTS/CN=Mmullen>, Mumm, Chris </O=ENRON/OU=NA/CN=RECIPIENTS/CN=Cmumm>, Nelson, Kourtney </O=ENRON/OU=NA/CN=RECIPIENTS/CN=Knelson>, Ngo, Tracy </O=ENRON/OU=NA/CN=RECIPIENTS/CN=Tngo>, Oh, Jeffrey </O=ENRON/OU=NA/CN=RECIPIENTS/CN=Joh>, Page, Jonalan </O=ENRON/OU=NA/CN=RECIPIENTS/CN=Jpage>, Parquet, David </O=ENRON/OU=NA/CN=RECIPIENTS/CN=Dparque>, Perry, Todd </O=ENRON/OU=NA/CN=RECIPIENTS/CN=Tperry2>, Polsky, Phil </O=ENRON/OU=NA/CN=RECIPIENTS/CN=Ppolsky>, Presto, Darin </O=ENRON/OU=NA/CN=RECIPIENTS/CN=Dpresto2>, Radous, Paul </O=ENRON/OU=NA/CN=RECIPIENTS/CN=Pradous>, Rance, Susan </O=ENRON/OU=NA/CN=RECIPIENTS/CN=Srance>, Rawson, Lester </O=ENRON/OU=NA/CN=RECIPIENTS/CN=Lrawson>, Richter, Jeff </O=ENRON/OU=NA/CN=RECIPIENTS/CN=Jrichte>, Rosman, Stewart </O=ENRON/OU=NA/CN=RECIPIENTS/CN=Srosman>, Sacks, Edward </O=ENRON/OU=NA/CN=RECIPIENTS/CN=Esacks>, Salisbury, Holden </O=ENRON/OU=NA/CN=RECIPIENTS/CN=Hsalisbu>, Sarnowski, Julie </O=ENRON/OU=NA/CN=RECIPIENTS/CN=Jsarnow>, Savage, Gordon </O=ENRON/OU=NA/CN=RECIPIENTS/CN=Gsavage>, Scholtes, Diana </O=ENRON/OU=NA/CN=RECIPIENTS/CN=Dscholt>, Semperger, Cara </O=ENRON/OU=NA/CN=RECIPIENTS/CN=Csemper>, Shields, Jeff </O=ENRON/OU=NA/CN=RECIPIENTS/CN=Jshields>, Slaughter, Jeff G. </O=ENRON/OU=NA/CN=RECIPIENTS/CN=Jslaugh>, Smith, Sarabeth </O=ENRON/OU=NA/CN=RECIPIENTS/CN=Ssmith3>, Soderquist, Larry </O=ENRON/OU=NA/CN=RECIPIENTS/CN=Lsoderq>, Surowiec, Glenn </O=ENRON/OU=NA/CN=RECIPIENTS/CN=Gsurowie>, Swain, Steve </O=ENRON/OU=NA/CN=RECIPIENTS/CN=Sswain>, Swerzbin, Mike </O=ENRON/OU=NA/CN=RECIPIENTS/CN=Mswerzb>, Symes, Kate </O=ENRON/OU=NA/CN=RECIPIENTS/CN=Ksymes>, Thomas, Jake </O=ENRON/OU=NA/CN=RECIPIENTS/CN=Jthomas5>, Thome, Stephen </O=ENRON/OU=NA/CN=RECIPIENTS/CN=Sthome>, Thome, Stephen </O=ENRON/OU=NA/CN=RECIPIENTS/CN=STHOME>, Thompson, Virginia </O=ENRON/OU=NA/CN=RECIPIENTS/CN=Vthompso>, Van Gelder, John </O=ENRON/OU=NA/CN=RECIPIENTS/CN=Jvangeld>, Ward, Kim S (Houston) </O=ENRON/OU=NA/CN=RECIPIENTS/CN=Kward>, Wente, Laura </O=ENRON/OU=NA/CN=RECIPIENTS/CN=Lwente>, Williams III, Bill </O=ENRON/OU=NA/CN=RECIPIENTS/CN=Bwillia5>, Williams, Bill </O=ENRON/OU=NA/CN=RECIPIENTS/CN=Bwillia>, Williams, Jason R (Credit) </O=ENRON/OU=NA/CN=RECIPIENTS/CN=Jwilli10>, Zufferli, John </O=ENRON/OU=NA/CN=RECIPIENTS/CN=JZUFFER>\\nX-cc: \\nX-bcc: \\nX-Folder: \\\\PALLEN (Non-Privileged)\\\\Allen, Phillip K.\\\\Inbox\\nX-Origin: Allen-P\\nX-FileName: PALLEN (Non-Privileged).pst\\n\\nThe second edition of \"New Gen Weekly\" is available for download.  The report can be found at:\\n\\nO:_Dropbox/West New Gen/Weekly/2_10_26_01\\n\\nIf you have any comments about this report (including ease of access) please direct them to me as soon as possible.\\n\\n\\nJames Bruce\\t\\nEnron North America\\t\\t(503) 464-8122\\nWest Power Desk\\t\\t(503) 860-8612 (c)\\n121 SW Salmon, 3WTC0306\\t(503) 464-3740 (fax)\\nPortland, OR 97204\\t\\tJames.Bruce@Enron.com\\n']\n"
     ]
    }
   ],
   "source": [
    "#get the original message and get any other messages separately\n",
    "#email = get_random_file().read()\n",
    "email = open(multi_recipient_email).read()\n",
    "print(email)\n",
    "emails = re.split('-----Original Message-----', email)\n",
    "print(emails)"
   ]
  },
  {
   "cell_type": "code",
   "execution_count": 4,
   "metadata": {},
   "outputs": [
    {
     "data": {
      "text/plain": [
       "1"
      ]
     },
     "execution_count": 4,
     "metadata": {},
     "output_type": "execute_result"
    }
   ],
   "source": [
    "len(emails)"
   ]
  },
  {
   "cell_type": "code",
   "execution_count": 5,
   "metadata": {},
   "outputs": [
    {
     "name": "stdout",
     "output_type": "stream",
     "text": [
      "8076\n"
     ]
    }
   ],
   "source": [
    "for message in emails:\n",
    "    print(len(message))"
   ]
  },
  {
   "cell_type": "code",
   "execution_count": 6,
   "metadata": {},
   "outputs": [
    {
     "name": "stdout",
     "output_type": "stream",
     "text": [
      "Message-ID: <11341209.1075858645204.JavaMail.evans@thyme>\n",
      "Date: Mon, 29 Oct 2001 15:03:47 -0800 (PST)\n",
      "From: james.bruce@enron.com\n",
      "To: k..allen@enron.com, tom.alonso@enron.com, kysa.alport@enron.com, \n",
      "\trobert.badeer@enron.com, tim.belden@enron.com, \n",
      "\tkortney.brown@enron.com, james.bruce@enron.com, \n",
      "\tjesse.bryson@enron.com, jim.buerkle@enron.com, \n",
      "\tangela.cadena@enron.com, f..calger@enron.com, fran.chang@enron.com, \n",
      "\tandy.chen@enron.com, paul.choi@enron.com, ed.clark@enron.com, \n",
      "\talan.comnes@enron.com, wendy.conwell@enron.com, \n",
      "\tminal.dalia@enron.com, debra.davidson@enron.com, \n",
      "\tw..donovan@enron.com, m..driscoll@enron.com, \n",
      "\theather.dunton@enron.com, laird.dyer@enron.com, \n",
      "\tfredrik.eriksson@enron.com, michael.etringer@enron.com, \n",
      "\tmark.fillinger@enron.com, h..foster@enron.com, david.frost@enron.com, \n",
      "\tdave.fuller@enron.com, jim.gilbert@enron.com, a..gomez@enron.com, \n",
      "\tstan.gray@enron.com, mike.grigsby@enron.com, \n",
      "\tdavid.guillaume@enron.com, mark.guzman@enron.com, \n",
      "\tdon.hammond@enron.com, keith.holst@enron.com, paul.kaufman@enron.com, \n",
      "\tchris.lackey@enron.com, samantha.law@enron.com, \n",
      "\telliot.mainzer@enron.com, john.malowney@enron.com, \n",
      "\twayne.mays@enron.com, michael.mcdonald@enron.com, \n",
      "\tjonathan.mckay@enron.com, stephanie.miller@enron.com, \n",
      "\tmatt.motley@enron.com, mark.mullen@enron.com, chris.mumm@enron.com, \n",
      "\tkourtney.nelson@enron.com, tracy.ngo@enron.com, jeffrey.oh@enron.com, \n",
      "\tjonalan.page@enron.com, david.parquet@enron.com, \n",
      "\ttodd.perry@enron.com, phil.polsky@enron.com, darin.presto@enron.com, \n",
      "\tpaul.radous@enron.com, susan.rance@enron.com, \n",
      "\tlester.rawson@enron.com, jeff.richter@enron.com, \n",
      "\tstewart.rosman@enron.com, edward.sacks@enron.com, \n",
      "\tholden.salisbury@enron.com, julie.sarnowski@enron.com, \n",
      "\tgordon.savage@enron.com, diana.scholtes@enron.com, \n",
      "\tcara.semperger@enron.com, jeff.shields@enron.com, \n",
      "\tg..slaughter@enron.com, sarabeth.smith@enron.com, \n",
      "\tlarry.soderquist@enron.com, glenn.surowiec@enron.com, \n",
      "\tsteve.swain@enron.com, mike.swerzbin@enron.com, kate.symes@enron.com, \n",
      "\tjake.thomas@enron.com, stephen.thome@enron.com, \n",
      "\tstephen.thome@enron.com, virginia.thompson@enron.com, \n",
      "\tjohn.van@enron.com, houston <.ward@enron.com>, laura.wente@enron.com, \n",
      "\tbill.williams@enron.com, bill.williams@enron.com, \n",
      "\tcredit <.williams@enron.com>, john.zufferli@enron.com\n",
      "Subject: Edition 2 New Gen Weekly\n",
      "Mime-Version: 1.0\n",
      "Content-Type: text/plain; charset=us-ascii\n",
      "Content-Transfer-Encoding: 7bit\n",
      "X-From: Bruce, James </O=ENRON/OU=NA/CN=RECIPIENTS/CN=JBRUCE2>\n",
      "X-To: Allen, Phillip K. </O=ENRON/OU=NA/CN=RECIPIENTS/CN=Pallen>, Alonso, Tom </O=ENRON/OU=NA/CN=RECIPIENTS/CN=Talonso>, Alport, Kysa </O=ENRON/OU=NA/CN=RECIPIENTS/CN=Kalport>, Badeer, Robert </O=ENRON/OU=NA/CN=RECIPIENTS/CN=Rbadeer>, Belden, Tim </O=ENRON/OU=NA/CN=RECIPIENTS/CN=Tbelden>, Brown, Kortney </O=ENRON/OU=NA/CN=RECIPIENTS/CN=Kbrown>, Bruce, James </O=ENRON/OU=NA/CN=RECIPIENTS/CN=Jbruce2>, Bryson, Jesse </O=ENRON/OU=NA/CN=RECIPIENTS/CN=Jbryson>, Buerkle, Jim </O=ENRON/OU=NA/CN=RECIPIENTS/CN=JBUERKL>, Cadena, Angela </O=ENRON/OU=NA/CN=RECIPIENTS/CN=Acadena>, Calger, Christopher F. </O=ENRON/OU=NA/CN=RECIPIENTS/CN=Ccalger>, Chang, Fran </O=ENRON/OU=NA/CN=RECIPIENTS/CN=Fchang>, Chen, Andy </O=ENRON/OU=NA/CN=RECIPIENTS/CN=Achen>, Choi, Paul </O=ENRON/OU=NA/CN=RECIPIENTS/CN=Pchoi>, Clark, Ed </O=ENRON/OU=NA/CN=RECIPIENTS/CN=Eclark3>, Comnes, Alan </O=ENRON/OU=NA/CN=RECIPIENTS/CN=Acomnes>, Conwell, Wendy </O=ENRON/OU=NA/CN=RECIPIENTS/CN=Wconwell>, Dalia, Minal </O=ENRON/OU=NA/CN=RECIPIENTS/CN=Mdalia>, Davidson, Debra </O=ENRON/OU=NA/CN=RECIPIENTS/CN=DDAVIDS3>, Donovan, Terry W. </O=ENRON/OU=NA/CN=RECIPIENTS/CN=Tdonova>, Driscoll, Michael M. </O=ENRON/OU=NA/CN=RECIPIENTS/CN=Mdrisc3>, Dunton, Heather </O=ENRON/OU=NA/CN=RECIPIENTS/CN=Hdunton>, Dyer, Laird </O=ENRON/OU=NA/CN=RECIPIENTS/CN=Ldyer>, Eriksson, Fredrik </O=ENRON/OU=NA/CN=RECIPIENTS/CN=Feriksso>, Etringer, Michael </O=ENRON/OU=NA/CN=RECIPIENTS/CN=Metring>, Fillinger, Mark </O=ENRON/OU=NA/CN=RECIPIENTS/CN=Mfilling>, Foster, Chris H. </O=ENRON/OU=NA/CN=RECIPIENTS/CN=Cfoster>, Frost, David </O=ENRON/OU=NA/CN=RECIPIENTS/CN=Dfrost>, Fuller, Dave </O=ENRON/OU=NA/CN=RECIPIENTS/CN=Dfuller>, Gilbert, Jim </O=ENRON/OU=NA/CN=RECIPIENTS/CN=Jgilbe2>, Gomez, Julie A. </O=ENRON/OU=NA/CN=RECIPIENTS/CN=Jgomez>, Gray, Stan </O=ENRON/OU=NA/CN=RECIPIENTS/CN=Sgray>, Grigsby, Mike </O=ENRON/OU=NA/CN=RECIPIENTS/CN=Mgrigsb>, Guillaume, David </O=ENRON/OU=NA/CN=RECIPIENTS/CN=Dguillau>, Guzman, Mark </O=ENRON/OU=NA/CN=RECIPIENTS/CN=Mguzman3>, Hammond, Don </O=ENRON/OU=NA/CN=RECIPIENTS/CN=Dhammon>, Holst, Keith </O=ENRON/OU=NA/CN=RECIPIENTS/CN=Kholst>, Kaufman, Paul </O=ENRON/OU=NA/CN=RECIPIENTS/CN=Pkaufma>, Lackey, Chris </O=ENRON/OU=NA/CN=RECIPIENTS/CN=Clackey2>, Law, Samantha </O=ENRON/OU=NA/CN=RECIPIENTS/CN=Slaw>, Mainzer, Elliot </O=ENRON/OU=NA/CN=RECIPIENTS/CN=Emainze>, Malowney, John </O=ENRON/OU=NA/CN=RECIPIENTS/CN=Jmalown>, Mays, Wayne </O=ENRON/OU=NA/CN=RECIPIENTS/CN=Wmays>, Mcdonald, Michael </O=ENRON/OU=NA/CN=RECIPIENTS/CN=Mmcdona>, Mckay, Jonathan </O=ENRON/OU=NA/CN=RECIPIENTS/CN=JMCKAY1>, Miller, Stephanie </O=ENRON/OU=NA/CN=RECIPIENTS/CN=Smiller2>, Motley, Matt </O=ENRON/OU=NA/CN=RECIPIENTS/CN=MMOTLEY>, Mullen, Mark </O=ENRON/OU=NA/CN=RECIPIENTS/CN=Mmullen>, Mumm, Chris </O=ENRON/OU=NA/CN=RECIPIENTS/CN=Cmumm>, Nelson, Kourtney </O=ENRON/OU=NA/CN=RECIPIENTS/CN=Knelson>, Ngo, Tracy </O=ENRON/OU=NA/CN=RECIPIENTS/CN=Tngo>, Oh, Jeffrey </O=ENRON/OU=NA/CN=RECIPIENTS/CN=Joh>, Page, Jonalan </O=ENRON/OU=NA/CN=RECIPIENTS/CN=Jpage>, Parquet, David </O=ENRON/OU=NA/CN=RECIPIENTS/CN=Dparque>, Perry, Todd </O=ENRON/OU=NA/CN=RECIPIENTS/CN=Tperry2>, Polsky, Phil </O=ENRON/OU=NA/CN=RECIPIENTS/CN=Ppolsky>, Presto, Darin </O=ENRON/OU=NA/CN=RECIPIENTS/CN=Dpresto2>, Radous, Paul </O=ENRON/OU=NA/CN=RECIPIENTS/CN=Pradous>, Rance, Susan </O=ENRON/OU=NA/CN=RECIPIENTS/CN=Srance>, Rawson, Lester </O=ENRON/OU=NA/CN=RECIPIENTS/CN=Lrawson>, Richter, Jeff </O=ENRON/OU=NA/CN=RECIPIENTS/CN=Jrichte>, Rosman, Stewart </O=ENRON/OU=NA/CN=RECIPIENTS/CN=Srosman>, Sacks, Edward </O=ENRON/OU=NA/CN=RECIPIENTS/CN=Esacks>, Salisbury, Holden </O=ENRON/OU=NA/CN=RECIPIENTS/CN=Hsalisbu>, Sarnowski, Julie </O=ENRON/OU=NA/CN=RECIPIENTS/CN=Jsarnow>, Savage, Gordon </O=ENRON/OU=NA/CN=RECIPIENTS/CN=Gsavage>, Scholtes, Diana </O=ENRON/OU=NA/CN=RECIPIENTS/CN=Dscholt>, Semperger, Cara </O=ENRON/OU=NA/CN=RECIPIENTS/CN=Csemper>, Shields, Jeff </O=ENRON/OU=NA/CN=RECIPIENTS/CN=Jshields>, Slaughter, Jeff G. </O=ENRON/OU=NA/CN=RECIPIENTS/CN=Jslaugh>, Smith, Sarabeth </O=ENRON/OU=NA/CN=RECIPIENTS/CN=Ssmith3>, Soderquist, Larry </O=ENRON/OU=NA/CN=RECIPIENTS/CN=Lsoderq>, Surowiec, Glenn </O=ENRON/OU=NA/CN=RECIPIENTS/CN=Gsurowie>, Swain, Steve </O=ENRON/OU=NA/CN=RECIPIENTS/CN=Sswain>, Swerzbin, Mike </O=ENRON/OU=NA/CN=RECIPIENTS/CN=Mswerzb>, Symes, Kate </O=ENRON/OU=NA/CN=RECIPIENTS/CN=Ksymes>, Thomas, Jake </O=ENRON/OU=NA/CN=RECIPIENTS/CN=Jthomas5>, Thome, Stephen </O=ENRON/OU=NA/CN=RECIPIENTS/CN=Sthome>, Thome, Stephen </O=ENRON/OU=NA/CN=RECIPIENTS/CN=STHOME>, Thompson, Virginia </O=ENRON/OU=NA/CN=RECIPIENTS/CN=Vthompso>, Van Gelder, John </O=ENRON/OU=NA/CN=RECIPIENTS/CN=Jvangeld>, Ward, Kim S (Houston) </O=ENRON/OU=NA/CN=RECIPIENTS/CN=Kward>, Wente, Laura </O=ENRON/OU=NA/CN=RECIPIENTS/CN=Lwente>, Williams III, Bill </O=ENRON/OU=NA/CN=RECIPIENTS/CN=Bwillia5>, Williams, Bill </O=ENRON/OU=NA/CN=RECIPIENTS/CN=Bwillia>, Williams, Jason R (Credit) </O=ENRON/OU=NA/CN=RECIPIENTS/CN=Jwilli10>, Zufferli, John </O=ENRON/OU=NA/CN=RECIPIENTS/CN=JZUFFER>\n",
      "X-cc: \n",
      "X-bcc: \n",
      "X-Folder: \\PALLEN (Non-Privileged)\\Allen, Phillip K.\\Inbox\n",
      "X-Origin: Allen-P\n",
      "X-FileName: PALLEN (Non-Privileged).pst\n",
      "\n",
      "The second edition of \"New Gen Weekly\" is available for download.  The report can be found at:\n",
      "\n",
      "O:_Dropbox/West New Gen/Weekly/2_10_26_01\n",
      "\n",
      "If you have any comments about this report (including ease of access) please direct them to me as soon as possible.\n",
      "\n",
      "\n",
      "James Bruce\t\n",
      "Enron North America\t\t(503) 464-8122\n",
      "West Power Desk\t\t(503) 860-8612 (c)\n",
      "121 SW Salmon, 3WTC0306\t(503) 464-3740 (fax)\n",
      "Portland, OR 97204\t\tJames.Bruce@Enron.com\n",
      "\n"
     ]
    }
   ],
   "source": [
    "print(emails[0])"
   ]
  },
  {
   "cell_type": "code",
   "execution_count": 23,
   "metadata": {},
   "outputs": [
    {
     "name": "stdout",
     "output_type": "stream",
     "text": [
      "The second edition of \"New Gen Weekly\" is available for download.  The report can be found at:O:_Dropbox/West New Gen/Weekly/2_10_26_01If you have any comments about this report (including ease of access) please direct them to me as soon as possible.James Bruce\tEnron North America\t\t(503) 464-8122West Power Desk\t\t(503) 860-8612 (c)121 SW Salmon, 3WTC0306\t(503) 464-3740 (fax)Portland, OR 97204\t\tJames.Bruce@Enron.com\n"
     ]
    }
   ],
   "source": [
    "metadata_tags = [\n",
    "    'Date:',\n",
    "    'From:',\n",
    "    'To:',\n",
    "    'Mime-Version:',\n",
    "    'Content-Type:',\n",
    "    'Content-Transfer-Encoding:',\n",
    "    'X-From:',\n",
    "    'X-To:',\n",
    "    'X-cc:',\n",
    "    'X-bcc:',\n",
    "    'X-Folder:',\n",
    "    'X-Origin:',\n",
    "    'X-FileName:',\n",
    "    'Message-ID:',\n",
    "    'Subject'\n",
    "]\n",
    "\n",
    "\n",
    "\n",
    "#get eamil body without metadata\n",
    "#body = re.findall(r\"(.+)\", emails[0])\n",
    "\n",
    "#body = body_temp\n",
    "tmp_body = \"\"\n",
    "\n",
    "found_metadata_end = False\n",
    "for line in emails[0].splitlines():\n",
    "    if(found_metadata_end):\n",
    "        tmp_body += line\n",
    "        tmp_body += '\\n'\n",
    "    \n",
    "    if(\"X-FileName:\" in line):\n",
    "        found_metadata_end = True\n",
    "\n",
    "\n",
    "\n",
    "body = tmp_body\n",
    "print(body)\n",
    "\n",
    "\n",
    "#delete contents from start of message to the end of the line with 'X-FileName'"
   ]
  },
  {
   "cell_type": "code",
   "execution_count": 8,
   "metadata": {},
   "outputs": [
    {
     "name": "stdout",
     "output_type": "stream",
     "text": [
      "To: k..allen@enron.com, tom.alonso@enron.com, kysa.alport@enron.com, \n",
      "k..allen\n",
      "tom.alonso\n",
      "kysa.alport\n"
     ]
    }
   ],
   "source": [
    "#get to and from lines\n",
    "#To:.(.+)\n",
    "to = re.search(r\"To:.(.+)\", emails[0])\n",
    "print(to.group())\n",
    "all_recipients = re.split(\" \", to.group())\n",
    "for recipient in all_recipients:\n",
    "        #if an email address\n",
    "        if(\"@\" in recipient):\n",
    "            to = re.split(\"[@]\", str(recipient)) #get just the username\n",
    "            print(to[0])\n"
   ]
  },
  {
   "cell_type": "code",
   "execution_count": 9,
   "metadata": {},
   "outputs": [
    {
     "data": {
      "text/plain": [
       "['k..allen', 'tom.alonso', 'kysa.alport']"
      ]
     },
     "execution_count": 9,
     "metadata": {},
     "output_type": "execute_result"
    }
   ],
   "source": [
    "get_email_to(emails[0])"
   ]
  },
  {
   "cell_type": "code",
   "execution_count": 10,
   "metadata": {},
   "outputs": [
    {
     "name": "stdout",
     "output_type": "stream",
     "text": [
      "From: james.bruce@enron.com\n",
      "james.bruce\n"
     ]
    }
   ],
   "source": [
    "#from\n",
    "frm = re.search(r\"From:.(.+)\", emails[0])\n",
    "print(frm.group())\n",
    "frm = re.split(\" \", frm.group())\n",
    "if(\"@\" in frm[1]):\n",
    "    frm = re.split(\"[@]\", str(frm[1]))\n",
    "    print(frm[0])\n",
    "    \n",
    "frm = frm[0]"
   ]
  },
  {
   "cell_type": "code",
   "execution_count": 11,
   "metadata": {},
   "outputs": [
    {
     "data": {
      "text/plain": [
       "'james.bruce'"
      ]
     },
     "execution_count": 11,
     "metadata": {},
     "output_type": "execute_result"
    }
   ],
   "source": [
    "get_email_from(emails[0])"
   ]
  },
  {
   "cell_type": "code",
   "execution_count": 12,
   "metadata": {},
   "outputs": [
    {
     "name": "stdout",
     "output_type": "stream",
     "text": [
      "['kysa.alport', 'enron.com,']\n",
      "james.bruce\n"
     ]
    }
   ],
   "source": [
    "print(to)\n",
    "print(frm)"
   ]
  },
  {
   "cell_type": "code",
   "execution_count": 13,
   "metadata": {},
   "outputs": [
    {
     "ename": "NameError",
     "evalue": "name 'csvEmployeeNameToDirStyleEmployeeName' is not defined",
     "output_type": "error",
     "traceback": [
      "\u001b[0;31m---------------------------------------------------------------------------\u001b[0m",
      "\u001b[0;31mNameError\u001b[0m                                 Traceback (most recent call last)",
      "\u001b[0;32m<ipython-input-13-e004cdd8b177>\u001b[0m in \u001b[0;36m<module>\u001b[0;34m()\u001b[0m\n\u001b[0;32m----> 1\u001b[0;31m \u001b[0mid_to\u001b[0m \u001b[0;34m=\u001b[0m \u001b[0mcsvEmployeeNameToDirStyleEmployeeName\u001b[0m\u001b[0;34m(\u001b[0m\u001b[0mto\u001b[0m\u001b[0;34m[\u001b[0m\u001b[0;36m0\u001b[0m\u001b[0;34m]\u001b[0m\u001b[0;34m)\u001b[0m\u001b[0;34m\u001b[0m\u001b[0m\n\u001b[0m\u001b[1;32m      2\u001b[0m \u001b[0mid_frm\u001b[0m \u001b[0;34m=\u001b[0m \u001b[0mcsvEmployeeNameToDirStyleEmployeeName\u001b[0m\u001b[0;34m(\u001b[0m\u001b[0mfrm\u001b[0m\u001b[0;34m)\u001b[0m\u001b[0;34m\u001b[0m\u001b[0m\n\u001b[1;32m      3\u001b[0m \u001b[0;34m\u001b[0m\u001b[0m\n\u001b[1;32m      4\u001b[0m \u001b[0;31m#weird edge case when . won't work\u001b[0m\u001b[0;34m\u001b[0m\u001b[0;34m\u001b[0m\u001b[0m\n\u001b[1;32m      5\u001b[0m \u001b[0;32mif\u001b[0m\u001b[0;34m(\u001b[0m\u001b[0mlen\u001b[0m\u001b[0;34m(\u001b[0m\u001b[0mid_to\u001b[0m\u001b[0;34m)\u001b[0m \u001b[0;34m==\u001b[0m \u001b[0;36m1\u001b[0m\u001b[0;34m)\u001b[0m\u001b[0;34m:\u001b[0m\u001b[0;34m\u001b[0m\u001b[0m\n",
      "\u001b[0;31mNameError\u001b[0m: name 'csvEmployeeNameToDirStyleEmployeeName' is not defined"
     ]
    }
   ],
   "source": [
    "id_to = csvEmployeeNameToDirStyleEmployeeName(to[0])\n",
    "id_frm = csvEmployeeNameToDirStyleEmployeeName(frm)\n",
    "\n",
    "#weird edge case when . won't work\n",
    "if(len(id_to) == 1):\n",
    "    id_to = to.split('_')\n",
    "\n",
    "    \n",
    "#now combine \n"
   ]
  },
  {
   "cell_type": "code",
   "execution_count": null,
   "metadata": {},
   "outputs": [],
   "source": [
    "print(id_to)\n",
    "print(id_frm)"
   ]
  },
  {
   "cell_type": "code",
   "execution_count": null,
   "metadata": {},
   "outputs": [],
   "source": []
  }
 ],
 "metadata": {
  "kernelspec": {
   "display_name": "Python 3",
   "language": "python",
   "name": "python3"
  },
  "language_info": {
   "codemirror_mode": {
    "name": "ipython",
    "version": 3
   },
   "file_extension": ".py",
   "mimetype": "text/x-python",
   "name": "python",
   "nbconvert_exporter": "python",
   "pygments_lexer": "ipython3",
   "version": "3.6.4"
  }
 },
 "nbformat": 4,
 "nbformat_minor": 2
}
