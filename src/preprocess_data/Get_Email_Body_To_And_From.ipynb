{
 "cells": [
  {
   "cell_type": "code",
   "execution_count": 1,
   "metadata": {},
   "outputs": [],
   "source": [
    "import os\n",
    "import re\n",
    "import random\n",
    "\n",
    "from employeeInfo import *\n",
    "\n",
    "data_path = os.path.expanduser('~/finalProject/enron_data_processed/')"
   ]
  },
  {
   "cell_type": "code",
   "execution_count": 2,
   "metadata": {},
   "outputs": [],
   "source": [
    "#for some user get some email\n",
    "def get_random_file():\n",
    "    for root, dirs, files in os.walk(data_path):\n",
    "        for name in files:\n",
    "            if name.endswith((\".\", \".txt\")):\n",
    "                print(root)\n",
    "                print(dirs)\n",
    "                \n",
    "                if(random.randint(0,10) == 1): #chance that the email will be used or go to the next one to return it\n",
    "                    return open(os.path.join(root+'/'+name))\n"
   ]
  },
  {
   "cell_type": "code",
   "execution_count": 3,
   "metadata": {},
   "outputs": [
    {
     "name": "stdout",
     "output_type": "stream",
     "text": [
      "/home/brf97486/finalProject/enron_data_processed/sturm-f\n",
      "[]\n",
      "/home/brf97486/finalProject/enron_data_processed/sturm-f\n",
      "[]\n",
      "/home/brf97486/finalProject/enron_data_processed/sturm-f\n",
      "[]\n",
      "/home/brf97486/finalProject/enron_data_processed/sturm-f\n",
      "[]\n",
      "/home/brf97486/finalProject/enron_data_processed/sturm-f\n",
      "[]\n",
      "/home/brf97486/finalProject/enron_data_processed/sturm-f\n",
      "[]\n",
      "/home/brf97486/finalProject/enron_data_processed/sturm-f\n",
      "[]\n",
      "/home/brf97486/finalProject/enron_data_processed/sturm-f\n",
      "[]\n",
      "/home/brf97486/finalProject/enron_data_processed/sturm-f\n",
      "[]\n",
      "/home/brf97486/finalProject/enron_data_processed/sturm-f\n",
      "[]\n",
      "/home/brf97486/finalProject/enron_data_processed/sturm-f\n",
      "[]\n",
      "/home/brf97486/finalProject/enron_data_processed/sturm-f\n",
      "[]\n",
      "Message-ID: <24244127.1075861332333.JavaMail.evans@thyme>\n",
      "Date: Mon, 19 Nov 2001 12:14:39 -0800 (PST)\n",
      "From: willis.philip@enron.com\n",
      "To: j..sturm@enron.com, robert.benson@enron.com, m..presto@enron.com, \n",
      "\tdana.davis@enron.com, gautam.gupta@enron.com, j..broderick@enron.com\n",
      "Subject: Enron buying\n",
      "Mime-Version: 1.0\n",
      "Content-Type: text/plain; charset=us-ascii\n",
      "Content-Transfer-Encoding: 7bit\n",
      "X-From: Philip, Willis </O=ENRON/OU=NA/CN=RECIPIENTS/CN=WPHILIP>\n",
      "X-To: Sturm, Fletcher J. </O=ENRON/OU=NA/CN=RECIPIENTS/CN=Fsturm>, Benson, Robert </O=ENRON/OU=NA/CN=RECIPIENTS/CN=Rbenson>, Presto, Kevin M. </O=ENRON/OU=NA/CN=RECIPIENTS/CN=Kpresto>, Davis, Mark Dana </O=ENRON/OU=NA/CN=RECIPIENTS/CN=Mdavis>, Gupta, Gautam </O=ENRON/OU=NA/CN=RECIPIENTS/CN=Ggupta>, Broderick, Paul J. </O=ENRON/OU=NA/CN=RECIPIENTS/CN=Pbroder>\n",
      "X-cc: \n",
      "X-bcc: \n",
      "X-Folder: \\FSTURM (Non-Privileged)\\Sturm, Fletcher J.\\Deleted Items\n",
      "X-Origin: Sturm-F\n",
      "X-FileName: FSTURM (Non-Privileged).pst\n",
      "\n",
      "\n",
      "14:01 19Nov2001 RSF-INSIDE FERC: Midwest-Market 2: Lack of sellers forces high Enron bids - PGN311\n",
      "\n",
      "Washington (Platts)--19Nov2001/301 pm EST/2001 GMT \n",
      "\n",
      "One trader said that she found arbitrage opportunities on some of the online platforms, capitalizing on a 5- to 6-ct differential between prices posted on EnronOnline and those on IntercontinentalExchange. She confirmed that few market players are willing to sell to Enron, which is forcing Enron to bid at a premium. \n",
      "\n",
      "\n",
      "Spot prices on ANR Pipeline in Oklahoma ranged from about $1.75/MMBtu early in the morning to about $2.36/MMBtu late, up from Friday's range of $1.38 to $1.58/MMBtu. \n",
      "\n",
      "\n",
      "For Related News, Double Click on one of these codes:\n",
      "[nPL4109800] [ENE.N] [US] [NGS] [PGN] [PLTN] [LEN] [ENE] [US] [NGS] \n",
      " Monday, 19 November 2001 14:01:20\n",
      "RSF [Historical News] {C}\n",
      "ENDS\n",
      "\n",
      "Willis Philip\n",
      "Enron Wholesale Services\n",
      "East Power Trading\n",
      "(713) 853-0961\n",
      "[\"Message-ID: <24244127.1075861332333.JavaMail.evans@thyme>\\nDate: Mon, 19 Nov 2001 12:14:39 -0800 (PST)\\nFrom: willis.philip@enron.com\\nTo: j..sturm@enron.com, robert.benson@enron.com, m..presto@enron.com, \\n\\tdana.davis@enron.com, gautam.gupta@enron.com, j..broderick@enron.com\\nSubject: Enron buying\\nMime-Version: 1.0\\nContent-Type: text/plain; charset=us-ascii\\nContent-Transfer-Encoding: 7bit\\nX-From: Philip, Willis </O=ENRON/OU=NA/CN=RECIPIENTS/CN=WPHILIP>\\nX-To: Sturm, Fletcher J. </O=ENRON/OU=NA/CN=RECIPIENTS/CN=Fsturm>, Benson, Robert </O=ENRON/OU=NA/CN=RECIPIENTS/CN=Rbenson>, Presto, Kevin M. </O=ENRON/OU=NA/CN=RECIPIENTS/CN=Kpresto>, Davis, Mark Dana </O=ENRON/OU=NA/CN=RECIPIENTS/CN=Mdavis>, Gupta, Gautam </O=ENRON/OU=NA/CN=RECIPIENTS/CN=Ggupta>, Broderick, Paul J. </O=ENRON/OU=NA/CN=RECIPIENTS/CN=Pbroder>\\nX-cc: \\nX-bcc: \\nX-Folder: \\\\FSTURM (Non-Privileged)\\\\Sturm, Fletcher J.\\\\Deleted Items\\nX-Origin: Sturm-F\\nX-FileName: FSTURM (Non-Privileged).pst\\n\\n\\n14:01 19Nov2001 RSF-INSIDE FERC: Midwest-Market 2: Lack of sellers forces high Enron bids - PGN311\\n\\nWashington (Platts)--19Nov2001/301 pm EST/2001 GMT \\n\\nOne trader said that she found arbitrage opportunities on some of the online platforms, capitalizing on a 5- to 6-ct differential between prices posted on EnronOnline and those on IntercontinentalExchange. She confirmed that few market players are willing to sell to Enron, which is forcing Enron to bid at a premium. \\n\\n\\nSpot prices on ANR Pipeline in Oklahoma ranged from about $1.75/MMBtu early in the morning to about $2.36/MMBtu late, up from Friday's range of $1.38 to $1.58/MMBtu. \\n\\n\\nFor Related News, Double Click on one of these codes:\\n[nPL4109800] [ENE.N] [US] [NGS] [PGN] [PLTN] [LEN] [ENE] [US] [NGS] \\n Monday, 19 November 2001 14:01:20\\nRSF [Historical News] {C}\\nENDS\\n\\nWillis Philip\\nEnron Wholesale Services\\nEast Power Trading\\n(713) 853-0961\"]\n"
     ]
    }
   ],
   "source": [
    "#get the original message and get any other messages separately\n",
    "email = get_random_file().read()\n",
    "print(email)\n",
    "emails = re.split('-----Original Message-----', email)\n",
    "print(emails)"
   ]
  },
  {
   "cell_type": "code",
   "execution_count": 4,
   "metadata": {},
   "outputs": [
    {
     "data": {
      "text/plain": [
       "1"
      ]
     },
     "execution_count": 4,
     "metadata": {},
     "output_type": "execute_result"
    }
   ],
   "source": [
    "len(emails)"
   ]
  },
  {
   "cell_type": "code",
   "execution_count": 5,
   "metadata": {},
   "outputs": [
    {
     "name": "stdout",
     "output_type": "stream",
     "text": [
      "1862\n"
     ]
    }
   ],
   "source": [
    "for message in emails:\n",
    "    print(len(message))"
   ]
  },
  {
   "cell_type": "code",
   "execution_count": 6,
   "metadata": {},
   "outputs": [
    {
     "name": "stdout",
     "output_type": "stream",
     "text": [
      "Message-ID: <24244127.1075861332333.JavaMail.evans@thyme>\n",
      "Date: Mon, 19 Nov 2001 12:14:39 -0800 (PST)\n",
      "From: willis.philip@enron.com\n",
      "To: j..sturm@enron.com, robert.benson@enron.com, m..presto@enron.com, \n",
      "\tdana.davis@enron.com, gautam.gupta@enron.com, j..broderick@enron.com\n",
      "Subject: Enron buying\n",
      "Mime-Version: 1.0\n",
      "Content-Type: text/plain; charset=us-ascii\n",
      "Content-Transfer-Encoding: 7bit\n",
      "X-From: Philip, Willis </O=ENRON/OU=NA/CN=RECIPIENTS/CN=WPHILIP>\n",
      "X-To: Sturm, Fletcher J. </O=ENRON/OU=NA/CN=RECIPIENTS/CN=Fsturm>, Benson, Robert </O=ENRON/OU=NA/CN=RECIPIENTS/CN=Rbenson>, Presto, Kevin M. </O=ENRON/OU=NA/CN=RECIPIENTS/CN=Kpresto>, Davis, Mark Dana </O=ENRON/OU=NA/CN=RECIPIENTS/CN=Mdavis>, Gupta, Gautam </O=ENRON/OU=NA/CN=RECIPIENTS/CN=Ggupta>, Broderick, Paul J. </O=ENRON/OU=NA/CN=RECIPIENTS/CN=Pbroder>\n",
      "X-cc: \n",
      "X-bcc: \n",
      "X-Folder: \\FSTURM (Non-Privileged)\\Sturm, Fletcher J.\\Deleted Items\n",
      "X-Origin: Sturm-F\n",
      "X-FileName: FSTURM (Non-Privileged).pst\n",
      "\n",
      "\n",
      "14:01 19Nov2001 RSF-INSIDE FERC: Midwest-Market 2: Lack of sellers forces high Enron bids - PGN311\n",
      "\n",
      "Washington (Platts)--19Nov2001/301 pm EST/2001 GMT \n",
      "\n",
      "One trader said that she found arbitrage opportunities on some of the online platforms, capitalizing on a 5- to 6-ct differential between prices posted on EnronOnline and those on IntercontinentalExchange. She confirmed that few market players are willing to sell to Enron, which is forcing Enron to bid at a premium. \n",
      "\n",
      "\n",
      "Spot prices on ANR Pipeline in Oklahoma ranged from about $1.75/MMBtu early in the morning to about $2.36/MMBtu late, up from Friday's range of $1.38 to $1.58/MMBtu. \n",
      "\n",
      "\n",
      "For Related News, Double Click on one of these codes:\n",
      "[nPL4109800] [ENE.N] [US] [NGS] [PGN] [PLTN] [LEN] [ENE] [US] [NGS] \n",
      " Monday, 19 November 2001 14:01:20\n",
      "RSF [Historical News] {C}\n",
      "ENDS\n",
      "\n",
      "Willis Philip\n",
      "Enron Wholesale Services\n",
      "East Power Trading\n",
      "(713) 853-0961\n"
     ]
    }
   ],
   "source": [
    "print(emails[0])"
   ]
  },
  {
   "cell_type": "code",
   "execution_count": 7,
   "metadata": {},
   "outputs": [
    {
     "name": "stdout",
     "output_type": "stream",
     "text": [
      "\tdana.davis@enron.com, gautam.gupta@enron.com, j..broderick@enron.com14:01 19Nov2001 RSF-INSIDE FERC: Midwest-Market 2: Lack of sellers forces high Enron bids - PGN311Washington (Platts)--19Nov2001/301 pm EST/2001 GMT One trader said that she found arbitrage opportunities on some of the online platforms, capitalizing on a 5- to 6-ct differential between prices posted on EnronOnline and those on IntercontinentalExchange. She confirmed that few market players are willing to sell to Enron, which is forcing Enron to bid at a premium. Spot prices on ANR Pipeline in Oklahoma ranged from about $1.75/MMBtu early in the morning to about $2.36/MMBtu late, up from Friday's range of $1.38 to $1.58/MMBtu. For Related News, Double Click on one of these codes:[nPL4109800] [ENE.N] [US] [NGS] [PGN] [PLTN] [LEN] [ENE] [US] [NGS]  Monday, 19 November 2001 14:01:20RSF [Historical News] {C}ENDSWillis PhilipEnron Wholesale ServicesEast Power Trading(713) 853-0961\n"
     ]
    }
   ],
   "source": [
    "metadata_tags = [\n",
    "    'Date:',\n",
    "    'From:',\n",
    "    'To:',\n",
    "    'Mime-Version:',\n",
    "    'Content-Type:',\n",
    "    'Content-Transfer-Encoding:',\n",
    "    'X-From:',\n",
    "    'X-To:',\n",
    "    'X-cc:',\n",
    "    'X-bcc:',\n",
    "    'X-Folder:',\n",
    "    'X-Origin:',\n",
    "    'X-FileName:',\n",
    "    'Message-ID:',\n",
    "    'Subject'\n",
    "]\n",
    "\n",
    "\n",
    "\n",
    "#get eamil body without metadata\n",
    "body = re.findall(r\"(.+)\", emails[0])\n",
    "body_temp = \"\"\n",
    "for item in body:\n",
    "    if not item.startswith(tuple(metadata_tags)):\n",
    "        body_temp = body_temp + item\n",
    "\n",
    "body = body_temp\n",
    "print(body)\n"
   ]
  },
  {
   "cell_type": "code",
   "execution_count": 8,
   "metadata": {},
   "outputs": [
    {
     "name": "stdout",
     "output_type": "stream",
     "text": [
      "To: j..sturm@enron.com, robert.benson@enron.com, m..presto@enron.com, \n",
      "j..sturm\n"
     ]
    }
   ],
   "source": [
    "#get to and from lines\n",
    "#To:.(.+)\n",
    "to = re.search(r\"To:.(.+)\", emails[0])\n",
    "print(to.group())\n",
    "to = re.split(\" \", to.group())\n",
    "if(\"@\" in to[1]):\n",
    "    to = re.split(\"[@]\", str(to[1]))\n",
    "    print(to[0])\n",
    "to = to[0]"
   ]
  },
  {
   "cell_type": "code",
   "execution_count": 9,
   "metadata": {},
   "outputs": [
    {
     "name": "stdout",
     "output_type": "stream",
     "text": [
      "From: willis.philip@enron.com\n",
      "willis.philip\n"
     ]
    }
   ],
   "source": [
    "#from\n",
    "frm = re.search(r\"From:.(.+)\", emails[0])\n",
    "print(frm.group())\n",
    "frm = re.split(\" \", frm.group())\n",
    "if(\"@\" in frm[1]):\n",
    "    frm = re.split(\"[@]\", str(frm[1]))\n",
    "    print(frm[0])\n",
    "    \n",
    "frm = frm[0]"
   ]
  },
  {
   "cell_type": "code",
   "execution_count": 10,
   "metadata": {},
   "outputs": [
    {
     "name": "stdout",
     "output_type": "stream",
     "text": [
      "j..sturm\n",
      "willis.philip\n"
     ]
    }
   ],
   "source": [
    "print(to)\n",
    "print(frm)"
   ]
  },
  {
   "cell_type": "code",
   "execution_count": 11,
   "metadata": {},
   "outputs": [],
   "source": [
    "id_to = csvEmployeeNameToDirStyleEmployeeName(to)\n",
    "id_frm = csvEmployeeNameToDirStyleEmployeeName(frm)\n",
    "\n",
    "#weird edge case when . won't work\n",
    "if(len(id_to) == 1):\n",
    "    id_to = to.split('_')\n",
    "\n",
    "    \n",
    "#now combine \n"
   ]
  },
  {
   "cell_type": "code",
   "execution_count": 12,
   "metadata": {},
   "outputs": [
    {
     "name": "stdout",
     "output_type": "stream",
     "text": [
      "sturm-j\n",
      "philip-w\n"
     ]
    }
   ],
   "source": [
    "print(id_to)\n",
    "print(id_frm)"
   ]
  },
  {
   "cell_type": "code",
   "execution_count": null,
   "metadata": {},
   "outputs": [],
   "source": []
  }
 ],
 "metadata": {
  "kernelspec": {
   "display_name": "Python 3",
   "language": "python",
   "name": "python3"
  },
  "language_info": {
   "codemirror_mode": {
    "name": "ipython",
    "version": 3
   },
   "file_extension": ".py",
   "mimetype": "text/x-python",
   "name": "python",
   "nbconvert_exporter": "python",
   "pygments_lexer": "ipython3",
   "version": "3.6.4"
  }
 },
 "nbformat": 4,
 "nbformat_minor": 2
}
