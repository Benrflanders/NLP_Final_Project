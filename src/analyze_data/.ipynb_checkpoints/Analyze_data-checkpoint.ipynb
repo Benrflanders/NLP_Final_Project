{
 "cells": [
  {
   "cell_type": "code",
   "execution_count": 1,
   "metadata": {},
   "outputs": [],
   "source": [
    "import os\n",
    "\n",
    "import nltk\n",
    "from nltk.corpus.reader import PlaintextCorpusReader"
   ]
  },
  {
   "cell_type": "code",
   "execution_count": 2,
   "metadata": {},
   "outputs": [],
   "source": [
    "corpus_dir = os.path.expanduser('~/finalProject/enron_data_processed/')\n",
    "corpus_dict = {}"
   ]
  },
  {
   "cell_type": "code",
   "execution_count": 3,
   "metadata": {},
   "outputs": [],
   "source": [
    "#create a dictionary that maps PlainTextReader to the subdirectory name for\n",
    "#each person\n",
    "for person in os.listdir(corpus_dir):\n",
    "    tmp_corpus_dir = os.path.join(corpus_dir, person)\n",
    "    newcorpus = PlaintextCorpusReader(tmp_corpus_dir, '.*', encoding='latin-1')\n",
    "    corpus_dict[person] = newcorpus"
   ]
  },
  {
   "cell_type": "code",
   "execution_count": null,
   "metadata": {},
   "outputs": [],
   "source": [
    "from string import punctuation\n",
    "\n",
    "#get a frequency distribution for each label/person and store that in a dict\n",
    "corpus_freq_dist_dict = {}\n",
    "for key in corpus_dict:\n",
    "    corpus_freq_dist_dict[key] = nltk.FreqDist(w.lower().rstrip(punctuation) for w in corpus_dict[key].words())\n",
    "    #print(key + \" : \")\n",
    "    #print(corpus_freq_dist_dict[key].most_common(5))"
   ]
  },
  {
   "cell_type": "code",
   "execution_count": null,
   "metadata": {},
   "outputs": [],
   "source": []
  }
 ],
 "metadata": {
  "kernelspec": {
   "display_name": "Python 3",
   "language": "python",
   "name": "python3"
  },
  "language_info": {
   "codemirror_mode": {
    "name": "ipython",
    "version": 3
   },
   "file_extension": ".py",
   "mimetype": "text/x-python",
   "name": "python",
   "nbconvert_exporter": "python",
   "pygments_lexer": "ipython3",
   "version": "3.6.4"
  }
 },
 "nbformat": 4,
 "nbformat_minor": 2
}
