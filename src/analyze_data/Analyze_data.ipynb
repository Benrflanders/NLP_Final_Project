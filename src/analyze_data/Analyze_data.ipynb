{
 "cells": [
  {
   "cell_type": "code",
   "execution_count": 1,
   "metadata": {},
   "outputs": [],
   "source": [
    "#a file to analyze the pre processed enron email data. DOES NOT DO ANY EDITING OF EMAIL DATA\n",
    "import os\n",
    "\n",
    "import nltk\n",
    "from nltk.corpus.reader import PlaintextCorpusReader"
   ]
  },
  {
   "cell_type": "code",
   "execution_count": 2,
   "metadata": {},
   "outputs": [],
   "source": [
    "corpus_dir = os.path.expanduser('~/finalProject/enron_data_processed/')\n",
    "corpus_dict = {}"
   ]
  },
  {
   "cell_type": "code",
   "execution_count": 3,
   "metadata": {},
   "outputs": [
    {
     "name": "stdout",
     "output_type": "stream",
     "text": [
      "allen-p\n",
      "arnold-j\n",
      "arora-h\n",
      "badeer-r\n",
      "bailey-s\n",
      "bass-e\n",
      "baughman-d\n",
      "beck-s\n",
      "benson-r\n",
      "blair-l\n",
      "brawner-s\n",
      "buy-r\n",
      "campbell-l\n",
      "carson-m\n",
      "cash-m\n",
      "causholli-m\n",
      "corman-s\n",
      "crandell-s\n",
      "cuilla-m\n",
      "dasovich-j\n",
      "davis-d\n",
      "dean-c\n",
      "delainey-d\n",
      "derrick-j\n",
      "dickson-s\n",
      "donoho-l\n",
      "donohoe-t\n",
      "dorland-c\n",
      "ermis-f\n",
      "farmer-d\n",
      "fischer-m\n",
      "forney-j\n",
      "fossum-d\n",
      "gang-l\n",
      "gay-r\n",
      "geaccone-t\n",
      "germany-c\n",
      "gilbertsmith-d\n",
      "giron-d\n",
      "griffith-j\n",
      "grigsby-m\n",
      "guzman-m\n",
      "haedicke-m\n",
      "hain-m\n",
      "harris-s\n",
      "hayslett-r\n",
      "heard-m\n",
      "hendrickson-s\n",
      "hernandez-j\n",
      "hodge-j\n",
      "holst-k\n",
      "horton-s\n",
      "hyatt-k\n",
      "hyvl-d\n",
      "jones-t\n",
      "kaminski-v\n",
      "kean-s\n",
      "keavey-p\n",
      "keiser-k\n",
      "king-j\n",
      "kitchen-l\n",
      "kuykendall-t\n",
      "lavorato-j\n",
      "lay-k\n",
      "lenhart-m\n",
      "lewis-a\n",
      "linder-e\n",
      "lokay-m\n",
      "lokey-t\n",
      "love-p\n",
      "lucci-p\n",
      "maggi-m\n",
      "mann-k\n",
      "martin-t\n",
      "may-l\n",
      "mccarty-d\n",
      "mcconnell-m\n",
      "mckay-b\n",
      "mckay-j\n",
      "mclaughlin-e\n",
      "merriss-s\n",
      "meyers-a\n",
      "mims-thurston-p\n",
      "motley-m\n",
      "neal-s\n",
      "nemec-g\n",
      "panus-s\n",
      "parks-j\n",
      "pereira-s\n",
      "perlingiere-d\n",
      "phanis-s\n",
      "pimenov-v\n",
      "platter-p\n",
      "presto-k\n",
      "quenet-j\n",
      "quigley-d\n",
      "rapp-b\n",
      "reitmeyer-j\n",
      "richey-c\n",
      "ring-a\n",
      "ring-r\n",
      "rodrique-r\n",
      "rogers-b\n",
      "ruscitti-k\n",
      "sager-e\n",
      "saibi-e\n",
      "salisbury-h\n",
      "sanchez-m\n",
      "sanders-r\n",
      "scholtes-d\n",
      "schoolcraft-d\n",
      "schwieger-j\n",
      "scott-s\n",
      "semperger-c\n",
      "shackleton-s\n",
      "shankman-j\n",
      "shapiro-r\n",
      "shively-h\n",
      "skilling-j\n",
      "slinger-r\n",
      "smith-m\n",
      "solberg-g\n",
      "south-s\n",
      "staab-t\n",
      "stclair-c\n",
      "steffes-j\n",
      "stepenovitch-j\n",
      "stokley-c\n",
      "storey-g\n",
      "sturm-f\n",
      "swerzbin-m\n",
      "symes-k\n",
      "taylor-m\n",
      "tholt-j\n",
      "thomas-p\n",
      "townsend-j\n",
      "tycholiz-b\n",
      "ward-k\n",
      "watson-k\n",
      "weldon-c\n",
      "whalley-g\n",
      "whalley-l\n",
      "white-s\n",
      "whitt-m\n",
      "williams-j\n",
      "williams-w3\n",
      "wolfe-j\n",
      "ybarbo-p\n",
      "zipper-a\n",
      "zufferli-j\n"
     ]
    }
   ],
   "source": [
    "person_list = os.listdir(corpus_dir)\n",
    "person_list_sorted = sorted(person_list)\n",
    "\n",
    "#print out each person in the list of people\n",
    "for person in person_list_sorted:\n",
    "    print(person)"
   ]
  },
  {
   "cell_type": "code",
   "execution_count": 4,
   "metadata": {},
   "outputs": [],
   "source": [
    "#create a dictionary that maps PlainTextReader to the subdirectory name for\n",
    "#each person\n",
    "for person in os.listdir(corpus_dir):\n",
    "    tmp_corpus_dir = os.path.join(corpus_dir, person)\n",
    "    newcorpus = PlaintextCorpusReader(tmp_corpus_dir, '.*', encoding='latin-1')\n",
    "    corpus_dict[person] = newcorpus"
   ]
  },
  {
   "cell_type": "code",
   "execution_count": 5,
   "metadata": {},
   "outputs": [
    {
     "ename": "KeyboardInterrupt",
     "evalue": "",
     "output_type": "error",
     "traceback": [
      "\u001b[0;31m---------------------------------------------------------------------------\u001b[0m",
      "\u001b[0;31mKeyboardInterrupt\u001b[0m                         Traceback (most recent call last)",
      "\u001b[0;32m<ipython-input-5-a40337348046>\u001b[0m in \u001b[0;36m<module>\u001b[0;34m()\u001b[0m\n\u001b[1;32m      4\u001b[0m \u001b[0mcorpus_freq_dist_dict\u001b[0m \u001b[0;34m=\u001b[0m \u001b[0;34m{\u001b[0m\u001b[0;34m}\u001b[0m\u001b[0;34m\u001b[0m\u001b[0m\n\u001b[1;32m      5\u001b[0m \u001b[0;32mfor\u001b[0m \u001b[0mkey\u001b[0m \u001b[0;32min\u001b[0m \u001b[0mcorpus_dict\u001b[0m\u001b[0;34m:\u001b[0m\u001b[0;34m\u001b[0m\u001b[0m\n\u001b[0;32m----> 6\u001b[0;31m     \u001b[0mcorpus_freq_dist_dict\u001b[0m\u001b[0;34m[\u001b[0m\u001b[0mkey\u001b[0m\u001b[0;34m]\u001b[0m \u001b[0;34m=\u001b[0m \u001b[0mnltk\u001b[0m\u001b[0;34m.\u001b[0m\u001b[0mFreqDist\u001b[0m\u001b[0;34m(\u001b[0m\u001b[0mw\u001b[0m\u001b[0;34m.\u001b[0m\u001b[0mlower\u001b[0m\u001b[0;34m(\u001b[0m\u001b[0;34m)\u001b[0m\u001b[0;34m.\u001b[0m\u001b[0mrstrip\u001b[0m\u001b[0;34m(\u001b[0m\u001b[0mpunctuation\u001b[0m\u001b[0;34m)\u001b[0m \u001b[0;32mfor\u001b[0m \u001b[0mw\u001b[0m \u001b[0;32min\u001b[0m \u001b[0mcorpus_dict\u001b[0m\u001b[0;34m[\u001b[0m\u001b[0mkey\u001b[0m\u001b[0;34m]\u001b[0m\u001b[0;34m.\u001b[0m\u001b[0mwords\u001b[0m\u001b[0;34m(\u001b[0m\u001b[0;34m)\u001b[0m\u001b[0;34m)\u001b[0m\u001b[0;34m\u001b[0m\u001b[0m\n\u001b[0m\u001b[1;32m      7\u001b[0m     \u001b[0;31m#print(key + \" : \")\u001b[0m\u001b[0;34m\u001b[0m\u001b[0;34m\u001b[0m\u001b[0m\n\u001b[1;32m      8\u001b[0m     \u001b[0;31m#print(corpus_freq_dist_dict[key].most_common(5))\u001b[0m\u001b[0;34m\u001b[0m\u001b[0;34m\u001b[0m\u001b[0m\n",
      "\u001b[0;32m/usr/local/apps/eb/nltk/3.4.4-foss-2018a-Python-3.6.4/lib/python3.6/site-packages/nltk-3.4.4-py3.6.egg/nltk/probability.py\u001b[0m in \u001b[0;36m__init__\u001b[0;34m(self, samples)\u001b[0m\n\u001b[1;32m    106\u001b[0m         \u001b[0;34m:\u001b[0m\u001b[0mtype\u001b[0m \u001b[0msamples\u001b[0m\u001b[0;34m:\u001b[0m \u001b[0mSequence\u001b[0m\u001b[0;34m\u001b[0m\u001b[0m\n\u001b[1;32m    107\u001b[0m         \"\"\"\n\u001b[0;32m--> 108\u001b[0;31m         \u001b[0mCounter\u001b[0m\u001b[0;34m.\u001b[0m\u001b[0m__init__\u001b[0m\u001b[0;34m(\u001b[0m\u001b[0mself\u001b[0m\u001b[0;34m,\u001b[0m \u001b[0msamples\u001b[0m\u001b[0;34m)\u001b[0m\u001b[0;34m\u001b[0m\u001b[0m\n\u001b[0m\u001b[1;32m    109\u001b[0m \u001b[0;34m\u001b[0m\u001b[0m\n\u001b[1;32m    110\u001b[0m         \u001b[0;31m# Cached number of samples in this FreqDist\u001b[0m\u001b[0;34m\u001b[0m\u001b[0;34m\u001b[0m\u001b[0m\n",
      "\u001b[0;32m/usr/local/apps/eb/Python/3.6.4-foss-2018a/lib/python3.6/collections/__init__.py\u001b[0m in \u001b[0;36m__init__\u001b[0;34m(*args, **kwds)\u001b[0m\n\u001b[1;32m    533\u001b[0m             \u001b[0;32mraise\u001b[0m \u001b[0mTypeError\u001b[0m\u001b[0;34m(\u001b[0m\u001b[0;34m'expected at most 1 arguments, got %d'\u001b[0m \u001b[0;34m%\u001b[0m \u001b[0mlen\u001b[0m\u001b[0;34m(\u001b[0m\u001b[0margs\u001b[0m\u001b[0;34m)\u001b[0m\u001b[0;34m)\u001b[0m\u001b[0;34m\u001b[0m\u001b[0m\n\u001b[1;32m    534\u001b[0m         \u001b[0msuper\u001b[0m\u001b[0;34m(\u001b[0m\u001b[0mCounter\u001b[0m\u001b[0;34m,\u001b[0m \u001b[0mself\u001b[0m\u001b[0;34m)\u001b[0m\u001b[0;34m.\u001b[0m\u001b[0m__init__\u001b[0m\u001b[0;34m(\u001b[0m\u001b[0;34m)\u001b[0m\u001b[0;34m\u001b[0m\u001b[0m\n\u001b[0;32m--> 535\u001b[0;31m         \u001b[0mself\u001b[0m\u001b[0;34m.\u001b[0m\u001b[0mupdate\u001b[0m\u001b[0;34m(\u001b[0m\u001b[0;34m*\u001b[0m\u001b[0margs\u001b[0m\u001b[0;34m,\u001b[0m \u001b[0;34m**\u001b[0m\u001b[0mkwds\u001b[0m\u001b[0;34m)\u001b[0m\u001b[0;34m\u001b[0m\u001b[0m\n\u001b[0m\u001b[1;32m    536\u001b[0m \u001b[0;34m\u001b[0m\u001b[0m\n\u001b[1;32m    537\u001b[0m     \u001b[0;32mdef\u001b[0m \u001b[0m__missing__\u001b[0m\u001b[0;34m(\u001b[0m\u001b[0mself\u001b[0m\u001b[0;34m,\u001b[0m \u001b[0mkey\u001b[0m\u001b[0;34m)\u001b[0m\u001b[0;34m:\u001b[0m\u001b[0;34m\u001b[0m\u001b[0m\n",
      "\u001b[0;32m/usr/local/apps/eb/nltk/3.4.4-foss-2018a-Python-3.6.4/lib/python3.6/site-packages/nltk-3.4.4-py3.6.egg/nltk/probability.py\u001b[0m in \u001b[0;36mupdate\u001b[0;34m(self, *args, **kwargs)\u001b[0m\n\u001b[1;32m    144\u001b[0m         \"\"\"\n\u001b[1;32m    145\u001b[0m         \u001b[0mself\u001b[0m\u001b[0;34m.\u001b[0m\u001b[0m_N\u001b[0m \u001b[0;34m=\u001b[0m \u001b[0;32mNone\u001b[0m\u001b[0;34m\u001b[0m\u001b[0m\n\u001b[0;32m--> 146\u001b[0;31m         \u001b[0msuper\u001b[0m\u001b[0;34m(\u001b[0m\u001b[0mFreqDist\u001b[0m\u001b[0;34m,\u001b[0m \u001b[0mself\u001b[0m\u001b[0;34m)\u001b[0m\u001b[0;34m.\u001b[0m\u001b[0mupdate\u001b[0m\u001b[0;34m(\u001b[0m\u001b[0;34m*\u001b[0m\u001b[0margs\u001b[0m\u001b[0;34m,\u001b[0m \u001b[0;34m**\u001b[0m\u001b[0mkwargs\u001b[0m\u001b[0;34m)\u001b[0m\u001b[0;34m\u001b[0m\u001b[0m\n\u001b[0m\u001b[1;32m    147\u001b[0m \u001b[0;34m\u001b[0m\u001b[0m\n\u001b[1;32m    148\u001b[0m     \u001b[0;32mdef\u001b[0m \u001b[0msetdefault\u001b[0m\u001b[0;34m(\u001b[0m\u001b[0mself\u001b[0m\u001b[0;34m,\u001b[0m \u001b[0mkey\u001b[0m\u001b[0;34m,\u001b[0m \u001b[0mval\u001b[0m\u001b[0;34m)\u001b[0m\u001b[0;34m:\u001b[0m\u001b[0;34m\u001b[0m\u001b[0m\n",
      "\u001b[0;32m/usr/local/apps/eb/Python/3.6.4-foss-2018a/lib/python3.6/collections/__init__.py\u001b[0m in \u001b[0;36mupdate\u001b[0;34m(*args, **kwds)\u001b[0m\n\u001b[1;32m    620\u001b[0m                     \u001b[0msuper\u001b[0m\u001b[0;34m(\u001b[0m\u001b[0mCounter\u001b[0m\u001b[0;34m,\u001b[0m \u001b[0mself\u001b[0m\u001b[0;34m)\u001b[0m\u001b[0;34m.\u001b[0m\u001b[0mupdate\u001b[0m\u001b[0;34m(\u001b[0m\u001b[0miterable\u001b[0m\u001b[0;34m)\u001b[0m \u001b[0;31m# fast path when counter is empty\u001b[0m\u001b[0;34m\u001b[0m\u001b[0m\n\u001b[1;32m    621\u001b[0m             \u001b[0;32melse\u001b[0m\u001b[0;34m:\u001b[0m\u001b[0;34m\u001b[0m\u001b[0m\n\u001b[0;32m--> 622\u001b[0;31m                 \u001b[0m_count_elements\u001b[0m\u001b[0;34m(\u001b[0m\u001b[0mself\u001b[0m\u001b[0;34m,\u001b[0m \u001b[0miterable\u001b[0m\u001b[0;34m)\u001b[0m\u001b[0;34m\u001b[0m\u001b[0m\n\u001b[0m\u001b[1;32m    623\u001b[0m         \u001b[0;32mif\u001b[0m \u001b[0mkwds\u001b[0m\u001b[0;34m:\u001b[0m\u001b[0;34m\u001b[0m\u001b[0m\n\u001b[1;32m    624\u001b[0m             \u001b[0mself\u001b[0m\u001b[0;34m.\u001b[0m\u001b[0mupdate\u001b[0m\u001b[0;34m(\u001b[0m\u001b[0mkwds\u001b[0m\u001b[0;34m)\u001b[0m\u001b[0;34m\u001b[0m\u001b[0m\n",
      "\u001b[0;32m/usr/local/apps/eb/nltk/3.4.4-foss-2018a-Python-3.6.4/lib/python3.6/site-packages/nltk-3.4.4-py3.6.egg/nltk/probability.py\u001b[0m in \u001b[0;36m__setitem__\u001b[0;34m(self, key, val)\u001b[0m\n\u001b[1;32m    125\u001b[0m         \u001b[0;32mreturn\u001b[0m \u001b[0mself\u001b[0m\u001b[0;34m.\u001b[0m\u001b[0m_N\u001b[0m\u001b[0;34m\u001b[0m\u001b[0m\n\u001b[1;32m    126\u001b[0m \u001b[0;34m\u001b[0m\u001b[0m\n\u001b[0;32m--> 127\u001b[0;31m     \u001b[0;32mdef\u001b[0m \u001b[0m__setitem__\u001b[0m\u001b[0;34m(\u001b[0m\u001b[0mself\u001b[0m\u001b[0;34m,\u001b[0m \u001b[0mkey\u001b[0m\u001b[0;34m,\u001b[0m \u001b[0mval\u001b[0m\u001b[0;34m)\u001b[0m\u001b[0;34m:\u001b[0m\u001b[0;34m\u001b[0m\u001b[0m\n\u001b[0m\u001b[1;32m    128\u001b[0m         \"\"\"\n\u001b[1;32m    129\u001b[0m         \u001b[0mOverride\u001b[0m\u001b[0;31m \u001b[0m\u001b[0;31m`\u001b[0m\u001b[0;31m`\u001b[0m\u001b[0mCounter\u001b[0m\u001b[0;34m.\u001b[0m\u001b[0m__setitem__\u001b[0m\u001b[0;34m(\u001b[0m\u001b[0;34m)\u001b[0m\u001b[0;31m`\u001b[0m\u001b[0;31m`\u001b[0m \u001b[0mto\u001b[0m \u001b[0minvalidate\u001b[0m \u001b[0mthe\u001b[0m \u001b[0mcached\u001b[0m \u001b[0mN\u001b[0m\u001b[0;34m\u001b[0m\u001b[0m\n",
      "\u001b[0;31mKeyboardInterrupt\u001b[0m: "
     ]
    }
   ],
   "source": [
    "from string import punctuation\n",
    "\n",
    "#get a frequency distribution for each label/person and store that in a dict\n",
    "corpus_freq_dist_dict = {}\n",
    "for key in corpus_dict:\n",
    "    corpus_freq_dist_dict[key] = nltk.FreqDist(w.lower().rstrip(punctuation) for w in corpus_dict[key].words())\n",
    "    #print(key + \" : \")\n",
    "    #print(corpus_freq_dist_dict[key].most_common(5))"
   ]
  },
  {
   "cell_type": "code",
   "execution_count": 9,
   "metadata": {},
   "outputs": [
    {
     "data": {
      "text/plain": [
       "[['Message', '-', 'ID', ':', '<', '25828831', '.', '1075855376669', '.', 'JavaMail', '.', 'evans', '@', 'thyme', '>', 'Date', ':', 'Mon', ',', '26', 'Nov', '2001', '07', ':', '25', ':', '16', '-', '0800', '(', 'PST', ')', 'From', ':', 'k', '..', 'allen', '@', 'enron', '.', 'com', 'To', ':', 'jsmith', '@', 'austintx', '.', 'com', 'Subject', ':', 'RE', ':', 'Additional', 'properties', 'in', 'San', 'Antonio', 'Mime', '-', 'Version', ':', '1', '.', '0', 'Content', '-', 'Type', ':', 'text', '/', 'plain', ';', 'charset', '=', 'us', '-', 'ascii', 'Content', '-', 'Transfer', '-', 'Encoding', ':', '7bit', 'X', '-', 'From', ':', 'Allen', ',', 'Phillip', 'K', '.', '</', 'O', '=', 'ENRON', '/', 'OU', '=', 'NA', '/', 'CN', '=', 'RECIPIENTS', '/', 'CN', '=', 'PALLEN', '>', 'X', '-', 'To', ':', '\\'\"', 'JEFF', 'SMITH', '\"', '<', 'jsmith', '@', 'austintx', '.', 'com', '>@', 'ENRON', \"'\", 'X', '-', 'cc', ':', 'X', '-', 'bcc', ':', 'X', '-', 'Folder', ':', '\\\\', 'Phillip_Allen_Jan2002_1', '\\\\', 'Allen', ',', 'Phillip', 'K', '.\\\\', 'Sent', 'Items', 'X', '-', 'Origin', ':', 'Allen', '-', 'P', 'X', '-', 'FileName', ':', 'pallen', '(', 'Non', '-', 'Privileged', ').', 'pst'], ['Jeff', ','], ...]"
      ]
     },
     "execution_count": 9,
     "metadata": {},
     "output_type": "execute_result"
    }
   ],
   "source": [
    "corpus_dict['allen-p'].sents()"
   ]
  },
  {
   "cell_type": "code",
   "execution_count": null,
   "metadata": {},
   "outputs": [],
   "source": [
    "#for a given file, get the sender and reciever"
   ]
  }
 ],
 "metadata": {
  "kernelspec": {
   "display_name": "Python 3",
   "language": "python",
   "name": "python3"
  },
  "language_info": {
   "codemirror_mode": {
    "name": "ipython",
    "version": 3
   },
   "file_extension": ".py",
   "mimetype": "text/x-python",
   "name": "python",
   "nbconvert_exporter": "python",
   "pygments_lexer": "ipython3",
   "version": "3.6.4"
  }
 },
 "nbformat": 4,
 "nbformat_minor": 2
}
