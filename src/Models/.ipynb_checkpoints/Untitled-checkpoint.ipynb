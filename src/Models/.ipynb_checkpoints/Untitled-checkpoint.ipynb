{
 "cells": [
  {
   "cell_type": "code",
   "execution_count": 1,
   "metadata": {},
   "outputs": [],
   "source": [
    "from nltk.corpus import sentiwordnet"
   ]
  },
  {
   "cell_type": "code",
   "execution_count": 24,
   "metadata": {},
   "outputs": [
    {
     "name": "stdout",
     "output_type": "stream",
     "text": [
      "_fileids\n",
      "_root\n",
      "_encoding\n",
      "_tagset\n",
      "_db\n",
      "_unload\n"
     ]
    }
   ],
   "source": [
    "#sentiwordnet.Words('SentiWordNet_3.0.0.txt')\n",
    "for senti in sentiwordnet.all_senti_synsets:\n",
    "    print(senti)"
   ]
  },
  {
   "cell_type": "code",
   "execution_count": 21,
   "metadata": {},
   "outputs": [
    {
     "data": {
      "text/plain": [
       "['_fileids',\n",
       " '_root',\n",
       " '_encoding',\n",
       " '_tagset',\n",
       " '_db',\n",
       " '_unload',\n",
       " '__module__',\n",
       " '__init__',\n",
       " '_parse_src_file',\n",
       " 'senti_synset',\n",
       " 'senti_synsets',\n",
       " 'all_senti_synsets',\n",
       " '__doc__',\n",
       " '__unicode__',\n",
       " 'unicode_repr',\n",
       " '__repr__',\n",
       " 'ensure_loaded',\n",
       " 'readme',\n",
       " 'license',\n",
       " 'citation',\n",
       " 'fileids',\n",
       " 'abspath',\n",
       " 'abspaths',\n",
       " 'open',\n",
       " 'encoding',\n",
       " '_get_root',\n",
       " 'root',\n",
       " '__dict__',\n",
       " '__weakref__',\n",
       " '__hash__',\n",
       " '__str__',\n",
       " '__getattribute__',\n",
       " '__setattr__',\n",
       " '__delattr__',\n",
       " '__lt__',\n",
       " '__le__',\n",
       " '__eq__',\n",
       " '__ne__',\n",
       " '__gt__',\n",
       " '__ge__',\n",
       " '__new__',\n",
       " '__reduce_ex__',\n",
       " '__reduce__',\n",
       " '__subclasshook__',\n",
       " '__init_subclass__',\n",
       " '__format__',\n",
       " '__sizeof__',\n",
       " '__dir__',\n",
       " '__class__']"
      ]
     },
     "execution_count": 21,
     "metadata": {},
     "output_type": "execute_result"
    }
   ],
   "source": [
    "sentiwordnet.__dir__()"
   ]
  },
  {
   "cell_type": "code",
   "execution_count": null,
   "metadata": {},
   "outputs": [],
   "source": []
  }
 ],
 "metadata": {
  "kernelspec": {
   "display_name": "Python 3",
   "language": "python",
   "name": "python3"
  },
  "language_info": {
   "codemirror_mode": {
    "name": "ipython",
    "version": 3
   },
   "file_extension": ".py",
   "mimetype": "text/x-python",
   "name": "python",
   "nbconvert_exporter": "python",
   "pygments_lexer": "ipython3",
   "version": "3.6.4"
  }
 },
 "nbformat": 4,
 "nbformat_minor": 2
}
