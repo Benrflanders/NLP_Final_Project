{
 "cells": [
  {
   "cell_type": "code",
   "execution_count": 2,
   "metadata": {},
   "outputs": [
    {
     "name": "stdout",
     "output_type": "stream",
     "text": [
      "5_5.txt\n",
      "5_2.txt\n",
      "2_1.txt\n",
      "4_5.txt\n",
      "4_2.txt\n",
      "5_3.txt\n",
      "5_4.txt\n",
      "1_1.txt\n",
      "4_4.txt\n",
      "1_5.txt\n",
      "1_2.txt\n",
      "2_4.txt\n",
      "4_1.txt\n",
      "3_2.txt\n",
      "3_5.txt\n",
      "1_4.txt\n",
      "5_1.txt\n",
      "2_2.txt\n",
      "2_5.txt\n"
     ]
    }
   ],
   "source": [
    "from Make_Enron_Corpus import enronCorpus\n",
    "enron_corp = enronCorpus()\n",
    "for d in enron_corp.fileids():\n",
    "    print(d)"
   ]
  },
  {
   "cell_type": "code",
   "execution_count": null,
   "metadata": {},
   "outputs": [],
   "source": []
  }
 ],
 "metadata": {
  "kernelspec": {
   "display_name": "Python 3",
   "language": "python",
   "name": "python3"
  }
 },
 "nbformat": 4,
 "nbformat_minor": 2
}
